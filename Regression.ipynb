{
 "cells": [
  {
   "cell_type": "markdown",
   "id": "22d3c9e6",
   "metadata": {},
   "source": [
    "# Medical Cost Prediction\n",
    "\n",
    "### Problem Statement\n",
    "\n",
    "We will be predicting the medical charges for different paitents based on features like gender , age , bmi etc.\n",
    "Below are the features captured in our dataset. The dataset is taken from kaggle.\n",
    "\n",
    "\n",
    "### Features\n",
    "\n",
    "* age: age of primary beneficiary\n",
    "\n",
    "* sex: insurance contractor gender, female, male\n",
    "\n",
    "* bmi: Body mass index, providing an understanding of body, weights that are relatively high or low relative to height,\n",
    "  objective index of body weight (kg / m ^ 2) using the ratio of height to weight, ideally 18.5 to 24.9\n",
    "\n",
    "* children: Number of children covered by health insurance / Number of dependents\n",
    "\n",
    "* smoker: Smoking\n",
    "\n",
    "* region: the beneficiary's residential area in the US, northeast, southeast, southwest, northwest.\n",
    "\n",
    "* charges: Individual medical costs billed by health insurance\n"
   ]
  },
  {
   "cell_type": "code",
   "execution_count": 101,
   "id": "e0d48117",
   "metadata": {},
   "outputs": [],
   "source": [
    "import pandas as pd\n",
    "import numpy as np\n",
    "import seaborn as sns\n",
    "import matplotlib.pyplot as plt\n",
    "import warnings\n",
    "warnings.filterwarnings('ignore')\n",
    "\n",
    "from sklearn.preprocessing import StandardScaler\n",
    "from sklearn.model_selection import train_test_split\n",
    "from sklearn.linear_model import LinearRegression\n",
    "from sklearn.metrics import r2_score,mean_absolute_error,mean_squared_error\n",
    "%matplotlib inline\n",
    "\n",
    "import statsmodels\n",
    "import statsmodels.api as sm\n",
    "import statsmodels.stats.api as sms\n",
    "from statsmodels.tools.eval_measures import rmse\n",
    "\n",
    "from mlxtend.feature_selection import SequentialFeatureSelector as sfs\n",
    "from mlxtend.plotting import plot_sequential_feature_selection as plot_sfs\n",
    "import matplotlib.pyplot as plt\n",
    "from sklearn.feature_selection import RFE,RFECV\n",
    "from sklearn.preprocessing import PolynomialFeatures\n",
    "from sklearn.tree import DecisionTreeRegressor\n",
    "from sklearn.ensemble import RandomForestRegressor, GradientBoostingRegressor\n",
    "from sklearn.model_selection import GridSearchCV\n",
    "from sklearn.model_selection import cross_val_score"
   ]
  },
  {
   "cell_type": "code",
   "execution_count": 3,
   "id": "2377e128",
   "metadata": {},
   "outputs": [
    {
     "data": {
      "text/html": [
       "<div>\n",
       "<style scoped>\n",
       "    .dataframe tbody tr th:only-of-type {\n",
       "        vertical-align: middle;\n",
       "    }\n",
       "\n",
       "    .dataframe tbody tr th {\n",
       "        vertical-align: top;\n",
       "    }\n",
       "\n",
       "    .dataframe thead th {\n",
       "        text-align: right;\n",
       "    }\n",
       "</style>\n",
       "<table border=\"1\" class=\"dataframe\">\n",
       "  <thead>\n",
       "    <tr style=\"text-align: right;\">\n",
       "      <th></th>\n",
       "      <th>age</th>\n",
       "      <th>sex</th>\n",
       "      <th>bmi</th>\n",
       "      <th>children</th>\n",
       "      <th>smoker</th>\n",
       "      <th>region</th>\n",
       "      <th>charges</th>\n",
       "    </tr>\n",
       "  </thead>\n",
       "  <tbody>\n",
       "    <tr>\n",
       "      <th>0</th>\n",
       "      <td>19</td>\n",
       "      <td>female</td>\n",
       "      <td>27.900</td>\n",
       "      <td>0</td>\n",
       "      <td>yes</td>\n",
       "      <td>southwest</td>\n",
       "      <td>16884.92400</td>\n",
       "    </tr>\n",
       "    <tr>\n",
       "      <th>1</th>\n",
       "      <td>18</td>\n",
       "      <td>male</td>\n",
       "      <td>33.770</td>\n",
       "      <td>1</td>\n",
       "      <td>no</td>\n",
       "      <td>southeast</td>\n",
       "      <td>1725.55230</td>\n",
       "    </tr>\n",
       "    <tr>\n",
       "      <th>2</th>\n",
       "      <td>28</td>\n",
       "      <td>male</td>\n",
       "      <td>33.000</td>\n",
       "      <td>3</td>\n",
       "      <td>no</td>\n",
       "      <td>southeast</td>\n",
       "      <td>4449.46200</td>\n",
       "    </tr>\n",
       "    <tr>\n",
       "      <th>3</th>\n",
       "      <td>33</td>\n",
       "      <td>male</td>\n",
       "      <td>22.705</td>\n",
       "      <td>0</td>\n",
       "      <td>no</td>\n",
       "      <td>northwest</td>\n",
       "      <td>21984.47061</td>\n",
       "    </tr>\n",
       "    <tr>\n",
       "      <th>4</th>\n",
       "      <td>32</td>\n",
       "      <td>male</td>\n",
       "      <td>28.880</td>\n",
       "      <td>0</td>\n",
       "      <td>no</td>\n",
       "      <td>northwest</td>\n",
       "      <td>3866.85520</td>\n",
       "    </tr>\n",
       "  </tbody>\n",
       "</table>\n",
       "</div>"
      ],
      "text/plain": [
       "   age     sex     bmi  children smoker     region      charges\n",
       "0   19  female  27.900         0    yes  southwest  16884.92400\n",
       "1   18    male  33.770         1     no  southeast   1725.55230\n",
       "2   28    male  33.000         3     no  southeast   4449.46200\n",
       "3   33    male  22.705         0     no  northwest  21984.47061\n",
       "4   32    male  28.880         0     no  northwest   3866.85520"
      ]
     },
     "execution_count": 3,
     "metadata": {},
     "output_type": "execute_result"
    }
   ],
   "source": [
    "df = pd.read_csv('insurance.csv')\n",
    "df.head()"
   ]
  },
  {
   "cell_type": "markdown",
   "id": "e0cd2baf",
   "metadata": {},
   "source": [
    "# EDA"
   ]
  },
  {
   "cell_type": "code",
   "execution_count": 4,
   "id": "54cddda1",
   "metadata": {},
   "outputs": [
    {
     "data": {
      "text/plain": [
       "(1338, 7)"
      ]
     },
     "execution_count": 4,
     "metadata": {},
     "output_type": "execute_result"
    }
   ],
   "source": [
    "df.shape"
   ]
  },
  {
   "cell_type": "markdown",
   "id": "70c7d6eb",
   "metadata": {},
   "source": [
    "* There are 1338 observations and 7 attributes"
   ]
  },
  {
   "cell_type": "code",
   "execution_count": 5,
   "id": "f82a03b2",
   "metadata": {},
   "outputs": [
    {
     "data": {
      "text/plain": [
       "age           int64\n",
       "sex          object\n",
       "bmi         float64\n",
       "children      int64\n",
       "smoker       object\n",
       "region       object\n",
       "charges     float64\n",
       "dtype: object"
      ]
     },
     "execution_count": 5,
     "metadata": {},
     "output_type": "execute_result"
    }
   ],
   "source": [
    "df.dtypes"
   ]
  },
  {
   "cell_type": "markdown",
   "id": "20ae3da7",
   "metadata": {},
   "source": [
    "* All the datatypes are inline with data description"
   ]
  },
  {
   "cell_type": "code",
   "execution_count": 6,
   "id": "ed85e652",
   "metadata": {},
   "outputs": [
    {
     "name": "stdout",
     "output_type": "stream",
     "text": [
      "<class 'pandas.core.frame.DataFrame'>\n",
      "RangeIndex: 1338 entries, 0 to 1337\n",
      "Data columns (total 7 columns):\n",
      " #   Column    Non-Null Count  Dtype  \n",
      "---  ------    --------------  -----  \n",
      " 0   age       1338 non-null   int64  \n",
      " 1   sex       1338 non-null   object \n",
      " 2   bmi       1338 non-null   float64\n",
      " 3   children  1338 non-null   int64  \n",
      " 4   smoker    1338 non-null   object \n",
      " 5   region    1338 non-null   object \n",
      " 6   charges   1338 non-null   float64\n",
      "dtypes: float64(2), int64(2), object(3)\n",
      "memory usage: 73.3+ KB\n"
     ]
    }
   ],
   "source": [
    "df.info()"
   ]
  },
  {
   "cell_type": "code",
   "execution_count": 7,
   "id": "0c8c35c8",
   "metadata": {},
   "outputs": [
    {
     "data": {
      "text/html": [
       "<div>\n",
       "<style scoped>\n",
       "    .dataframe tbody tr th:only-of-type {\n",
       "        vertical-align: middle;\n",
       "    }\n",
       "\n",
       "    .dataframe tbody tr th {\n",
       "        vertical-align: top;\n",
       "    }\n",
       "\n",
       "    .dataframe thead th {\n",
       "        text-align: right;\n",
       "    }\n",
       "</style>\n",
       "<table border=\"1\" class=\"dataframe\">\n",
       "  <thead>\n",
       "    <tr style=\"text-align: right;\">\n",
       "      <th></th>\n",
       "      <th>count</th>\n",
       "      <th>percent</th>\n",
       "    </tr>\n",
       "  </thead>\n",
       "  <tbody>\n",
       "    <tr>\n",
       "      <th>age</th>\n",
       "      <td>0</td>\n",
       "      <td>0.0</td>\n",
       "    </tr>\n",
       "    <tr>\n",
       "      <th>sex</th>\n",
       "      <td>0</td>\n",
       "      <td>0.0</td>\n",
       "    </tr>\n",
       "    <tr>\n",
       "      <th>bmi</th>\n",
       "      <td>0</td>\n",
       "      <td>0.0</td>\n",
       "    </tr>\n",
       "    <tr>\n",
       "      <th>children</th>\n",
       "      <td>0</td>\n",
       "      <td>0.0</td>\n",
       "    </tr>\n",
       "    <tr>\n",
       "      <th>smoker</th>\n",
       "      <td>0</td>\n",
       "      <td>0.0</td>\n",
       "    </tr>\n",
       "    <tr>\n",
       "      <th>region</th>\n",
       "      <td>0</td>\n",
       "      <td>0.0</td>\n",
       "    </tr>\n",
       "    <tr>\n",
       "      <th>charges</th>\n",
       "      <td>0</td>\n",
       "      <td>0.0</td>\n",
       "    </tr>\n",
       "  </tbody>\n",
       "</table>\n",
       "</div>"
      ],
      "text/plain": [
       "          count  percent\n",
       "age           0      0.0\n",
       "sex           0      0.0\n",
       "bmi           0      0.0\n",
       "children      0      0.0\n",
       "smoker        0      0.0\n",
       "region        0      0.0\n",
       "charges       0      0.0"
      ]
     },
     "execution_count": 7,
     "metadata": {},
     "output_type": "execute_result"
    }
   ],
   "source": [
    "missing_df = pd.DataFrame({'count':df.isna().sum(),'percent':df.isna().sum()/len(df)})\n",
    "missing_df"
   ]
  },
  {
   "cell_type": "markdown",
   "id": "bf455306",
   "metadata": {},
   "source": [
    "* There are no missing values."
   ]
  },
  {
   "cell_type": "code",
   "execution_count": 8,
   "id": "b1a3c138",
   "metadata": {},
   "outputs": [
    {
     "data": {
      "text/html": [
       "<div>\n",
       "<style scoped>\n",
       "    .dataframe tbody tr th:only-of-type {\n",
       "        vertical-align: middle;\n",
       "    }\n",
       "\n",
       "    .dataframe tbody tr th {\n",
       "        vertical-align: top;\n",
       "    }\n",
       "\n",
       "    .dataframe thead th {\n",
       "        text-align: right;\n",
       "    }\n",
       "</style>\n",
       "<table border=\"1\" class=\"dataframe\">\n",
       "  <thead>\n",
       "    <tr style=\"text-align: right;\">\n",
       "      <th></th>\n",
       "      <th>age</th>\n",
       "      <th>bmi</th>\n",
       "      <th>children</th>\n",
       "      <th>charges</th>\n",
       "    </tr>\n",
       "  </thead>\n",
       "  <tbody>\n",
       "    <tr>\n",
       "      <th>count</th>\n",
       "      <td>1338.000000</td>\n",
       "      <td>1338.000000</td>\n",
       "      <td>1338.000000</td>\n",
       "      <td>1338.000000</td>\n",
       "    </tr>\n",
       "    <tr>\n",
       "      <th>mean</th>\n",
       "      <td>39.207025</td>\n",
       "      <td>30.663397</td>\n",
       "      <td>1.094918</td>\n",
       "      <td>13270.422265</td>\n",
       "    </tr>\n",
       "    <tr>\n",
       "      <th>std</th>\n",
       "      <td>14.049960</td>\n",
       "      <td>6.098187</td>\n",
       "      <td>1.205493</td>\n",
       "      <td>12110.011237</td>\n",
       "    </tr>\n",
       "    <tr>\n",
       "      <th>min</th>\n",
       "      <td>18.000000</td>\n",
       "      <td>15.960000</td>\n",
       "      <td>0.000000</td>\n",
       "      <td>1121.873900</td>\n",
       "    </tr>\n",
       "    <tr>\n",
       "      <th>25%</th>\n",
       "      <td>27.000000</td>\n",
       "      <td>26.296250</td>\n",
       "      <td>0.000000</td>\n",
       "      <td>4740.287150</td>\n",
       "    </tr>\n",
       "    <tr>\n",
       "      <th>50%</th>\n",
       "      <td>39.000000</td>\n",
       "      <td>30.400000</td>\n",
       "      <td>1.000000</td>\n",
       "      <td>9382.033000</td>\n",
       "    </tr>\n",
       "    <tr>\n",
       "      <th>75%</th>\n",
       "      <td>51.000000</td>\n",
       "      <td>34.693750</td>\n",
       "      <td>2.000000</td>\n",
       "      <td>16639.912515</td>\n",
       "    </tr>\n",
       "    <tr>\n",
       "      <th>max</th>\n",
       "      <td>64.000000</td>\n",
       "      <td>53.130000</td>\n",
       "      <td>5.000000</td>\n",
       "      <td>63770.428010</td>\n",
       "    </tr>\n",
       "  </tbody>\n",
       "</table>\n",
       "</div>"
      ],
      "text/plain": [
       "               age          bmi     children       charges\n",
       "count  1338.000000  1338.000000  1338.000000   1338.000000\n",
       "mean     39.207025    30.663397     1.094918  13270.422265\n",
       "std      14.049960     6.098187     1.205493  12110.011237\n",
       "min      18.000000    15.960000     0.000000   1121.873900\n",
       "25%      27.000000    26.296250     0.000000   4740.287150\n",
       "50%      39.000000    30.400000     1.000000   9382.033000\n",
       "75%      51.000000    34.693750     2.000000  16639.912515\n",
       "max      64.000000    53.130000     5.000000  63770.428010"
      ]
     },
     "execution_count": 8,
     "metadata": {},
     "output_type": "execute_result"
    }
   ],
   "source": [
    "df.describe()"
   ]
  },
  {
   "cell_type": "markdown",
   "id": "52e8268b",
   "metadata": {},
   "source": [
    "* Age and BMI seems to be symmetrical based on thier mean and median values.\n",
    "* Charges distribution can be a left skewed.\n",
    "* There are no junk values present in data."
   ]
  },
  {
   "cell_type": "code",
   "execution_count": 9,
   "id": "7588b154",
   "metadata": {},
   "outputs": [
    {
     "data": {
      "text/plain": [
       "age         0.055673\n",
       "bmi         0.284047\n",
       "children    0.938380\n",
       "charges     1.515880\n",
       "dtype: float64"
      ]
     },
     "execution_count": 9,
     "metadata": {},
     "output_type": "execute_result"
    }
   ],
   "source": [
    "df.skew()"
   ]
  },
  {
   "cell_type": "markdown",
   "id": "93b7e6e8",
   "metadata": {},
   "source": [
    "* Except charges all the features are near to normal distribution."
   ]
  },
  {
   "cell_type": "markdown",
   "id": "57b1eea0",
   "metadata": {},
   "source": [
    "### Outliers"
   ]
  },
  {
   "cell_type": "code",
   "execution_count": 10,
   "id": "11b04140",
   "metadata": {},
   "outputs": [
    {
     "name": "stdout",
     "output_type": "stream",
     "text": [
      "Shape of the data before handling outliers :  (1338, 7)\n",
      "Shape of the data after handling outliers :  (1329, 7)\n"
     ]
    }
   ],
   "source": [
    "df_num=df[['age','bmi','children']]\n",
    "\n",
    "Q1 = df_num.quantile(0.25)\n",
    "\n",
    "Q3 = df_num.quantile(0.75)\n",
    "\n",
    "IQR = Q3 - Q1\n",
    "\n",
    "df_outliers = df[~((df < (Q1 - 1.5 * IQR)) | (df > (Q3 + 1.5 * IQR))).any(axis=1)]\n",
    "\n",
    "\n",
    "print('Shape of the data before handling outliers : ',df.shape)\n",
    "print('Shape of the data after handling outliers : ',df_outliers.shape)"
   ]
  },
  {
   "cell_type": "markdown",
   "id": "5bcbf62c",
   "metadata": {},
   "source": [
    "Inference:\n",
    "    \n",
    "    -- As we dont see any significant removal of observations after treating the outliers.\n",
    "    -- We will proceed with the normal data."
   ]
  },
  {
   "cell_type": "markdown",
   "id": "b613a6a8",
   "metadata": {},
   "source": [
    "## Univariate Analysis"
   ]
  },
  {
   "cell_type": "code",
   "execution_count": 11,
   "id": "898b8bd7",
   "metadata": {},
   "outputs": [],
   "source": [
    "class style:\n",
    "#These are the ANSI escape sequences to set Graphics in our output\n",
    "   PURPLE = '\\033[95m'\n",
    "   CYAN = '\\033[96m'\n",
    "   DARKCYAN = '\\033[36m'\n",
    "   BLUE = '\\033[94m'\n",
    "   GREEN = '\\033[92m'\n",
    "   YELLOW = '\\033[93m'\n",
    "   RED = '\\033[91m'\n",
    "   BOLD = '\\033[1m'\n",
    "   UNDERLINE = '\\033[4m'\n",
    "   BLINK = '\\033[5m'\n",
    "   END = '\\033[0m'"
   ]
  },
  {
   "cell_type": "code",
   "execution_count": 12,
   "id": "b7ac0961",
   "metadata": {},
   "outputs": [],
   "source": [
    "numerical =['age','bmi','charges','children']\n",
    "categorical=['smoker','region','sex']"
   ]
  },
  {
   "cell_type": "code",
   "execution_count": 13,
   "id": "8963d4dd",
   "metadata": {},
   "outputs": [],
   "source": [
    "def univariate_analysis_categorical(cat, i):\n",
    "    print(f\"\\t\\t{style.BOLD}Univariate Analysis of {cat}\")\n",
    "    print(f\"-----------------------------------------------------------{style.END}\")\n",
    "    print(f\"{i+1}. No of unique values in {style.BOLD}{cat}{style.END} are: {df[cat].nunique()}. \\nThe distribution is as follows:\")\n",
    "    print(f\"{style.BOLD}{cat}{style.END}\\n{df[cat].value_counts()}\\n\")\n",
    "    vc = df[cat].value_counts()\n",
    "    if len(vc.index)<=5:\n",
    "        g = sns.countplot(x=cat, data=df, palette = 'pastel', order = df[cat].value_counts().index)\n",
    "    elif len(vc.index)>5 and len(vc.index)<=15:\n",
    "        g = sns.countplot(y=cat, data=df, palette = 'pastel', order = df[cat].value_counts().index)\n",
    "    elif len(vc.index)>15:\n",
    "        g = sns.countplot(x=cat, data=df, palette = 'pastel',order = df[cat].value_counts().index)\n",
    "        g.set_xticklabels(labels = g.get_xticklabels(), rotation = 90)\n",
    "    plt.show()\n",
    "    print(\"\\t\")"
   ]
  },
  {
   "cell_type": "code",
   "execution_count": 14,
   "id": "6c76862e",
   "metadata": {},
   "outputs": [],
   "source": [
    "def univariate_analysis_numerical(num, i):\n",
    "    print(f\"\\t\\t{style.BOLD}Univariate Analysis of {num}\")\n",
    "    print(f\"-----------------------------------------------------------{style.END}\")\n",
    "    print(f\"{style.BOLD}{num}{style.END}\\n\")\n",
    "    print(f\"{style.BOLD}The distribution of {num} is as follows:\")\n",
    "    print(sns.boxplot(x=df[num]))\n",
    "    plt.show()\n",
    "    print(f\"{style.BOLD}The distribution of {num} is as follows:\")\n",
    "    print(sns.distplot(x=df[num]))\n",
    "    plt.show()\n",
    "    print(\"\\t\")"
   ]
  },
  {
   "cell_type": "code",
   "execution_count": 15,
   "id": "2f6a3d91",
   "metadata": {},
   "outputs": [
    {
     "name": "stdout",
     "output_type": "stream",
     "text": [
      "\t\t\u001b[1mUnivariate Analysis of smoker\n",
      "-----------------------------------------------------------\u001b[0m\n",
      "1. No of unique values in \u001b[1msmoker\u001b[0m are: 2. \n",
      "The distribution is as follows:\n",
      "\u001b[1msmoker\u001b[0m\n",
      "no     1064\n",
      "yes     274\n",
      "Name: smoker, dtype: int64\n",
      "\n"
     ]
    },
    {
     "data": {
      "image/png": "[encoded data removed]",
      "text/plain": [
       "<Figure size 432x288 with 1 Axes>"
      ]
     },
     "metadata": {
      "needs_background": "light"
     },
     "output_type": "display_data"
    },
    {
     "name": "stdout",
     "output_type": "stream",
     "text": [
      "\t\n",
      "\t\t\u001b[1mUnivariate Analysis of region\n",
      "-----------------------------------------------------------\u001b[0m\n",
      "2. No of unique values in \u001b[1mregion\u001b[0m are: 4. \n",
      "The distribution is as follows:\n",
      "\u001b[1mregion\u001b[0m\n",
      "southeast    364\n",
      "southwest    325\n",
      "northwest    325\n",
      "northeast    324\n",
      "Name: region, dtype: int64\n",
      "\n"
     ]
    },
    {
     "data": {
      "image/png": "[encoded data removed]",
      "text/plain": [
       "<Figure size 432x288 with 1 Axes>"
      ]
     },
     "metadata": {
      "needs_background": "light"
     },
     "output_type": "display_data"
    },
    {
     "name": "stdout",
     "output_type": "stream",
     "text": [
      "\t\n",
      "\t\t\u001b[1mUnivariate Analysis of sex\n",
      "-----------------------------------------------------------\u001b[0m\n",
      "3. No of unique values in \u001b[1msex\u001b[0m are: 2. \n",
      "The distribution is as follows:\n",
      "\u001b[1msex\u001b[0m\n",
      "male      676\n",
      "female    662\n",
      "Name: sex, dtype: int64\n",
      "\n"
     ]
    },
    {
     "data": {
      "image/png": "[encoded data removed]",
      "text/plain": [
       "<Figure size 432x288 with 1 Axes>"
      ]
     },
     "metadata": {
      "needs_background": "light"
     },
     "output_type": "display_data"
    },
    {
     "name": "stdout",
     "output_type": "stream",
     "text": [
      "\t\n"
     ]
    }
   ],
   "source": [
    "for i,x in enumerate(categorical):\n",
    "        univariate_analysis_categorical(x, i) "
   ]
  },
  {
   "cell_type": "code",
   "execution_count": 16,
   "id": "d826b2de",
   "metadata": {
    "scrolled": false
   },
   "outputs": [
    {
     "name": "stdout",
     "output_type": "stream",
     "text": [
      "\t\t\u001b[1mUnivariate Analysis of age\n",
      "-----------------------------------------------------------\u001b[0m\n",
      "\u001b[1mage\u001b[0m\n",
      "\n",
      "\u001b[1mThe distribution of age is as follows:\n",
      "AxesSubplot(0.125,0.125;0.775x0.755)\n"
     ]
    },
    {
     "data": {
      "image/png": "[encoded data removed]",
      "text/plain": [
       "<Figure size 432x288 with 1 Axes>"
      ]
     },
     "metadata": {
      "needs_background": "light"
     },
     "output_type": "display_data"
    },
    {
     "name": "stdout",
     "output_type": "stream",
     "text": [
      "\u001b[1mThe distribution of age is as follows:\n",
      "AxesSubplot(0.125,0.125;0.775x0.755)\n"
     ]
    },
    {
     "data": {
      "image/png": "[encoded data removed]",
      "text/plain": [
       "<Figure size 432x288 with 1 Axes>"
      ]
     },
     "metadata": {
      "needs_background": "light"
     },
     "output_type": "display_data"
    },
    {
     "name": "stdout",
     "output_type": "stream",
     "text": [
      "\t\n",
      "\t\t\u001b[1mUnivariate Analysis of bmi\n",
      "-----------------------------------------------------------\u001b[0m\n",
      "\u001b[1mbmi\u001b[0m\n",
      "\n",
      "\u001b[1mThe distribution of bmi is as follows:\n",
      "AxesSubplot(0.125,0.125;0.775x0.755)\n"
     ]
    },
    {
     "data": {
      "image/png": "[encoded data removed]",
      "text/plain": [
       "<Figure size 432x288 with 1 Axes>"
      ]
     },
     "metadata": {
      "needs_background": "light"
     },
     "output_type": "display_data"
    },
    {
     "name": "stdout",
     "output_type": "stream",
     "text": [
      "\u001b[1mThe distribution of bmi is as follows:\n",
      "AxesSubplot(0.125,0.125;0.775x0.755)\n"
     ]
    },
    {
     "data": {
      "image/png": "[encoded data removed]",
      "text/plain": [
       "<Figure size 432x288 with 1 Axes>"
      ]
     },
     "metadata": {
      "needs_background": "light"
     },
     "output_type": "display_data"
    },
    {
     "name": "stdout",
     "output_type": "stream",
     "text": [
      "\t\n",
      "\t\t\u001b[1mUnivariate Analysis of charges\n",
      "-----------------------------------------------------------\u001b[0m\n",
      "\u001b[1mcharges\u001b[0m\n",
      "\n",
      "\u001b[1mThe distribution of charges is as follows:\n",
      "AxesSubplot(0.125,0.125;0.775x0.755)\n"
     ]
    },
    {
     "data": {
      "image/png": "[encoded data removed]",
      "text/plain": [
       "<Figure size 432x288 with 1 Axes>"
      ]
     },
     "metadata": {
      "needs_background": "light"
     },
     "output_type": "display_data"
    },
    {
     "name": "stdout",
     "output_type": "stream",
     "text": [
      "\u001b[1mThe distribution of charges is as follows:\n",
      "AxesSubplot(0.125,0.125;0.775x0.755)\n"
     ]
    },
    {
     "data": {
      "image/png": "[encoded data removed]",
      "text/plain": [
       "<Figure size 432x288 with 1 Axes>"
      ]
     },
     "metadata": {
      "needs_background": "light"
     },
     "output_type": "display_data"
    },
    {
     "name": "stdout",
     "output_type": "stream",
     "text": [
      "\t\n",
      "\t\t\u001b[1mUnivariate Analysis of children\n",
      "-----------------------------------------------------------\u001b[0m\n",
      "\u001b[1mchildren\u001b[0m\n",
      "\n",
      "\u001b[1mThe distribution of children is as follows:\n",
      "AxesSubplot(0.125,0.125;0.775x0.755)\n"
     ]
    },
    {
     "data": {
      "image/png": "[encoded data removed]",
      "text/plain": [
       "<Figure size 432x288 with 1 Axes>"
      ]
     },
     "metadata": {
      "needs_background": "light"
     },
     "output_type": "display_data"
    },
    {
     "name": "stdout",
     "output_type": "stream",
     "text": [
      "\u001b[1mThe distribution of children is as follows:\n",
      "AxesSubplot(0.125,0.125;0.775x0.755)\n"
     ]
    },
    {
     "data": {
      "image/png": "[encoded data removed]",
      "text/plain": [
       "<Figure size 432x288 with 1 Axes>"
      ]
     },
     "metadata": {
      "needs_background": "light"
     },
     "output_type": "display_data"
    },
    {
     "name": "stdout",
     "output_type": "stream",
     "text": [
      "\t\n"
     ]
    }
   ],
   "source": [
    "for i,x in enumerate(numerical):\n",
    "        univariate_analysis_numerical(x, i) "
   ]
  },
  {
   "cell_type": "markdown",
   "id": "198a4912",
   "metadata": {},
   "source": [
    "## Bivariate Analysis"
   ]
  },
  {
   "cell_type": "code",
   "execution_count": 17,
   "id": "0728f055",
   "metadata": {},
   "outputs": [
    {
     "data": {
      "image/png": "[encoded data removed]",
      "text/plain": [
       "<Figure size 720x576 with 2 Axes>"
      ]
     },
     "metadata": {
      "needs_background": "light"
     },
     "output_type": "display_data"
    }
   ],
   "source": [
    "plt.figure(figsize=(10,8))\n",
    "sns.heatmap(df.corr(),annot=True)\n",
    "plt.show()"
   ]
  },
  {
   "cell_type": "markdown",
   "id": "73501160",
   "metadata": {},
   "source": [
    "* There is no Multicollinearity observed"
   ]
  },
  {
   "cell_type": "code",
   "execution_count": 18,
   "id": "1f599773",
   "metadata": {},
   "outputs": [
    {
     "data": {
      "image/png": "[encoded data removed]",
      "text/plain": [
       "<Figure size 1080x576 with 2 Axes>"
      ]
     },
     "metadata": {
      "needs_background": "light"
     },
     "output_type": "display_data"
    }
   ],
   "source": [
    "fig , ax = plt.subplots(1,2,figsize=(15,8))\n",
    "sns.boxplot(df['sex'],df['charges'],ax=ax[0])\n",
    "sns.boxplot(df['smoker'],df['charges'],ax=ax[1])\n",
    "plt.show()"
   ]
  },
  {
   "cell_type": "markdown",
   "id": "7ffb723a",
   "metadata": {},
   "source": [
    "* The median charges for both male and female are almost same , there is more spread of data noticed on Male category.\n",
    "* Medical Charges for smokers are very high compared to non smokers."
   ]
  },
  {
   "cell_type": "code",
   "execution_count": 19,
   "id": "9a4802ca",
   "metadata": {},
   "outputs": [
    {
     "data": {
      "image/png": "[encoded data removed]",
      "text/plain": [
       "<Figure size 1080x576 with 2 Axes>"
      ]
     },
     "metadata": {
      "needs_background": "light"
     },
     "output_type": "display_data"
    }
   ],
   "source": [
    "fig , ax = plt.subplots(1,2,figsize=(15,8))\n",
    "sns.boxplot(df['sex'],df['age'],ax=ax[0])\n",
    "sns.boxplot(df['smoker'],df['age'],ax=ax[1])\n",
    "plt.show()"
   ]
  },
  {
   "cell_type": "markdown",
   "id": "ef9b8932",
   "metadata": {},
   "source": [
    "* There is no signifiant different spread of data for males and females,smokers and non smokers with respect to Age"
   ]
  },
  {
   "cell_type": "code",
   "execution_count": 20,
   "id": "e1e6c352",
   "metadata": {},
   "outputs": [
    {
     "data": {
      "image/png": "[encoded data removed]",
      "text/plain": [
       "<Figure size 720x576 with 1 Axes>"
      ]
     },
     "metadata": {
      "needs_background": "light"
     },
     "output_type": "display_data"
    }
   ],
   "source": [
    "plt.figure(figsize=(10,8))\n",
    "sns.boxplot(df['children'],df['charges'])\n",
    "plt.show()"
   ]
  },
  {
   "cell_type": "markdown",
   "id": "ceed2a71",
   "metadata": {},
   "source": [
    "* The median medical charges are high for the individuals who doesn't have childern.\n",
    "* There are ceratin outliers noticed in all the groups."
   ]
  },
  {
   "cell_type": "code",
   "execution_count": 21,
   "id": "a52d6a74",
   "metadata": {},
   "outputs": [
    {
     "data": {
      "image/png": "[encoded data removed]",
      "text/plain": [
       "<Figure size 720x576 with 1 Axes>"
      ]
     },
     "metadata": {
      "needs_background": "light"
     },
     "output_type": "display_data"
    }
   ],
   "source": [
    "plt.figure(figsize=(10,8))\n",
    "sns.boxplot(df['region'],df['charges'])\n",
    "plt.show()"
   ]
  },
  {
   "cell_type": "markdown",
   "id": "d769e824",
   "metadata": {},
   "source": [
    "* The median charges for all teh regions are almost same, but the spread is more in southeast region.\n",
    "* Outliers were noticed in all the regions."
   ]
  },
  {
   "cell_type": "markdown",
   "id": "2cd6fd3b",
   "metadata": {},
   "source": [
    "## Multivariate Analysis"
   ]
  },
  {
   "cell_type": "code",
   "execution_count": 22,
   "id": "d730e8f7",
   "metadata": {},
   "outputs": [
    {
     "data": {
      "image/png": "[encoded data removed]",
      "text/plain": [
       "<Figure size 720x576 with 1 Axes>"
      ]
     },
     "metadata": {
      "needs_background": "light"
     },
     "output_type": "display_data"
    }
   ],
   "source": [
    "plt.figure(figsize=(10,8))\n",
    "sns.barplot(df['smoker'],df['charges'],hue='sex',data=df,palette='Set2')\n",
    "plt.show()"
   ]
  },
  {
   "cell_type": "markdown",
   "id": "87986c62",
   "metadata": {},
   "source": [
    "* The mean charges for Male smokers are high than Female charges.\n",
    "* There is no much difference of charges noticed in terms of non smokers."
   ]
  },
  {
   "cell_type": "code",
   "execution_count": 23,
   "id": "47737f77",
   "metadata": {},
   "outputs": [
    {
     "data": {
      "image/png": "[encoded data removed]",
      "text/plain": [
       "<Figure size 720x576 with 1 Axes>"
      ]
     },
     "metadata": {
      "needs_background": "light"
     },
     "output_type": "display_data"
    }
   ],
   "source": [
    "plt.figure(figsize=(10,8))\n",
    "sns.barplot(df['region'],df['charges'],hue='smoker',data=df,palette='Set2')\n",
    "plt.show()"
   ]
  },
  {
   "cell_type": "markdown",
   "id": "4068cc01",
   "metadata": {},
   "source": [
    "* The mean charges for smokers in all the regions are high comapred to non smokers.\n",
    "* The more number of smokers are noticed in Southeast region."
   ]
  },
  {
   "cell_type": "code",
   "execution_count": 24,
   "id": "16c34db5",
   "metadata": {},
   "outputs": [
    {
     "data": {
      "image/png": "[encoded data removed]",
      "text/plain": [
       "<Figure size 720x720 with 20 Axes>"
      ]
     },
     "metadata": {
      "needs_background": "light"
     },
     "output_type": "display_data"
    }
   ],
   "source": [
    "plt.rcParams['figure.figsize'] = (22,7)\n",
    "sns.pairplot(df,diag_kind='kde')\n",
    "plt.show()"
   ]
  },
  {
   "cell_type": "markdown",
   "id": "27992f7c",
   "metadata": {},
   "source": [
    "* There is no linear trend observed between the features."
   ]
  },
  {
   "cell_type": "markdown",
   "id": "fbdd1ba8",
   "metadata": {},
   "source": [
    "## Encoding"
   ]
  },
  {
   "cell_type": "code",
   "execution_count": 25,
   "id": "dbe2bac8",
   "metadata": {},
   "outputs": [
    {
     "data": {
      "text/html": [
       "<div>\n",
       "<style scoped>\n",
       "    .dataframe tbody tr th:only-of-type {\n",
       "        vertical-align: middle;\n",
       "    }\n",
       "\n",
       "    .dataframe tbody tr th {\n",
       "        vertical-align: top;\n",
       "    }\n",
       "\n",
       "    .dataframe thead th {\n",
       "        text-align: right;\n",
       "    }\n",
       "</style>\n",
       "<table border=\"1\" class=\"dataframe\">\n",
       "  <thead>\n",
       "    <tr style=\"text-align: right;\">\n",
       "      <th></th>\n",
       "      <th>age</th>\n",
       "      <th>bmi</th>\n",
       "      <th>children</th>\n",
       "      <th>charges</th>\n",
       "      <th>sex_male</th>\n",
       "      <th>smoker_yes</th>\n",
       "      <th>region_northwest</th>\n",
       "      <th>region_southeast</th>\n",
       "      <th>region_southwest</th>\n",
       "    </tr>\n",
       "  </thead>\n",
       "  <tbody>\n",
       "    <tr>\n",
       "      <th>61</th>\n",
       "      <td>25</td>\n",
       "      <td>33.660</td>\n",
       "      <td>4</td>\n",
       "      <td>4504.66240</td>\n",
       "      <td>1</td>\n",
       "      <td>0</td>\n",
       "      <td>0</td>\n",
       "      <td>1</td>\n",
       "      <td>0</td>\n",
       "    </tr>\n",
       "    <tr>\n",
       "      <th>1192</th>\n",
       "      <td>58</td>\n",
       "      <td>32.395</td>\n",
       "      <td>1</td>\n",
       "      <td>13019.16105</td>\n",
       "      <td>0</td>\n",
       "      <td>0</td>\n",
       "      <td>0</td>\n",
       "      <td>0</td>\n",
       "      <td>0</td>\n",
       "    </tr>\n",
       "    <tr>\n",
       "      <th>258</th>\n",
       "      <td>51</td>\n",
       "      <td>24.415</td>\n",
       "      <td>4</td>\n",
       "      <td>11520.09985</td>\n",
       "      <td>1</td>\n",
       "      <td>0</td>\n",
       "      <td>1</td>\n",
       "      <td>0</td>\n",
       "      <td>0</td>\n",
       "    </tr>\n",
       "    <tr>\n",
       "      <th>728</th>\n",
       "      <td>18</td>\n",
       "      <td>40.280</td>\n",
       "      <td>0</td>\n",
       "      <td>2217.60120</td>\n",
       "      <td>0</td>\n",
       "      <td>0</td>\n",
       "      <td>0</td>\n",
       "      <td>0</td>\n",
       "      <td>0</td>\n",
       "    </tr>\n",
       "    <tr>\n",
       "      <th>645</th>\n",
       "      <td>48</td>\n",
       "      <td>30.780</td>\n",
       "      <td>3</td>\n",
       "      <td>10141.13620</td>\n",
       "      <td>1</td>\n",
       "      <td>0</td>\n",
       "      <td>0</td>\n",
       "      <td>0</td>\n",
       "      <td>0</td>\n",
       "    </tr>\n",
       "  </tbody>\n",
       "</table>\n",
       "</div>"
      ],
      "text/plain": [
       "      age     bmi  children      charges  sex_male  smoker_yes  \\\n",
       "61     25  33.660         4   4504.66240         1           0   \n",
       "1192   58  32.395         1  13019.16105         0           0   \n",
       "258    51  24.415         4  11520.09985         1           0   \n",
       "728    18  40.280         0   2217.60120         0           0   \n",
       "645    48  30.780         3  10141.13620         1           0   \n",
       "\n",
       "      region_northwest  region_southeast  region_southwest  \n",
       "61                   0                 1                 0  \n",
       "1192                 0                 0                 0  \n",
       "258                  1                 0                 0  \n",
       "728                  0                 0                 0  \n",
       "645                  0                 0                 0  "
      ]
     },
     "execution_count": 25,
     "metadata": {},
     "output_type": "execute_result"
    }
   ],
   "source": [
    "df_encode = pd.get_dummies(df,drop_first=True)\n",
    "df_encode.sample(5)"
   ]
  },
  {
   "cell_type": "markdown",
   "id": "aff6b3c1",
   "metadata": {},
   "source": [
    "#### Data preparation"
   ]
  },
  {
   "cell_type": "code",
   "execution_count": 26,
   "id": "a2eeb456",
   "metadata": {},
   "outputs": [
    {
     "name": "stdout",
     "output_type": "stream",
     "text": [
      "X Train shape:  (1070, 8)\n",
      "X Test shape:  (268, 8)\n",
      "Y Train shape:  (1070,)\n",
      "Y Test shape:  (268,)\n"
     ]
    }
   ],
   "source": [
    "X = df_encode.drop('charges',1)\n",
    "y = df_encode.charges\n",
    "\n",
    "x_train,x_test,y_train,y_test = train_test_split(X,y,test_size=0.20,random_state=0)\n",
    "\n",
    "print('X Train shape: ',x_train.shape)\n",
    "print('X Test shape: ',x_test.shape)\n",
    "print('Y Train shape: ',y_train.shape)\n",
    "print('Y Test shape: ',y_test.shape)"
   ]
  },
  {
   "cell_type": "markdown",
   "id": "48b5a0b3",
   "metadata": {},
   "source": [
    "## Model Building"
   ]
  },
  {
   "cell_type": "code",
   "execution_count": 27,
   "id": "725323ed",
   "metadata": {},
   "outputs": [
    {
     "name": "stdout",
     "output_type": "stream",
     "text": [
      "\u001b[1mR Square\n",
      "--------------------------\n",
      "0.8\n",
      "\n",
      "\n",
      "\u001b[1mRMSE of Train Data\n",
      "--------------------------\n",
      "6140.16\n",
      "\n",
      "\n",
      "\u001b[1mRMSE of Test Data\n",
      "--------------------------\n",
      "5641.63\n"
     ]
    }
   ],
   "source": [
    "lr = LinearRegression()\n",
    "model = lr.fit(x_train,y_train)\n",
    "ypred_train = model.predict(x_train)\n",
    "ypred_test = model.predict(x_test)\n",
    "mse_train = mean_squared_error(y_train,ypred_train)\n",
    "mse_test = mean_squared_error(y_test,ypred_test)\n",
    "rmse_train = np.sqrt(mse_train)\n",
    "rmse_test = np.sqrt(mse_test)\n",
    "\n",
    "print(f\"{style.BOLD}R Square\")\n",
    "print('--------------------------')\n",
    "print(round(r2_score(y_test,ypred_test),3))\n",
    "print('\\n')\n",
    "print(f\"{style.BOLD}RMSE of Train Data\")\n",
    "print('--------------------------')\n",
    "print(round(rmse_train,2))\n",
    "print('\\n')\n",
    "print(f\"{style.BOLD}RMSE of Test Data\")\n",
    "print('--------------------------')\n",
    "print(round(rmse_test,2))"
   ]
  },
  {
   "cell_type": "code",
   "execution_count": 28,
   "id": "326bd965",
   "metadata": {},
   "outputs": [],
   "source": [
    "X_l = df_encode.drop('charges',1)\n",
    "X_l = sm.add_constant(X_l)\n",
    "y_l = df_encode.charges\n",
    "\n",
    "x_train_l,x_test_l,y_train_l,y_test_l = train_test_split(X_l,y_l,test_size=0.20,random_state=10)"
   ]
  },
  {
   "cell_type": "code",
   "execution_count": 29,
   "id": "c6a08c58",
   "metadata": {},
   "outputs": [
    {
     "data": {
      "text/html": [
       "<table class=\"simpletable\">\n",
       "<caption>OLS Regression Results</caption>\n",
       "<tr>\n",
       "  <th>Dep. Variable:</th>         <td>charges</td>     <th>  R-squared:         </th> <td>   0.764</td> \n",
       "</tr>\n",
       "<tr>\n",
       "  <th>Model:</th>                   <td>OLS</td>       <th>  Adj. R-squared:    </th> <td>   0.762</td> \n",
       "</tr>\n",
       "<tr>\n",
       "  <th>Method:</th>             <td>Least Squares</td>  <th>  F-statistic:       </th> <td>   428.5</td> \n",
       "</tr>\n",
       "<tr>\n",
       "  <th>Date:</th>             <td>Sat, 09 Oct 2021</td> <th>  Prob (F-statistic):</th>  <td>  0.00</td>  \n",
       "</tr>\n",
       "<tr>\n",
       "  <th>Time:</th>                 <td>15:29:21</td>     <th>  Log-Likelihood:    </th> <td> -10812.</td> \n",
       "</tr>\n",
       "<tr>\n",
       "  <th>No. Observations:</th>      <td>  1070</td>      <th>  AIC:               </th> <td>2.164e+04</td>\n",
       "</tr>\n",
       "<tr>\n",
       "  <th>Df Residuals:</th>          <td>  1061</td>      <th>  BIC:               </th> <td>2.169e+04</td>\n",
       "</tr>\n",
       "<tr>\n",
       "  <th>Df Model:</th>              <td>     8</td>      <th>                     </th>     <td> </td>    \n",
       "</tr>\n",
       "<tr>\n",
       "  <th>Covariance Type:</th>      <td>nonrobust</td>    <th>                     </th>     <td> </td>    \n",
       "</tr>\n",
       "</table>\n",
       "<table class=\"simpletable\">\n",
       "<tr>\n",
       "          <td></td>            <th>coef</th>     <th>std err</th>      <th>t</th>      <th>P>|t|</th>  <th>[0.025</th>    <th>0.975]</th>  \n",
       "</tr>\n",
       "<tr>\n",
       "  <th>const</th>            <td>-1.272e+04</td> <td> 1068.346</td> <td>  -11.904</td> <td> 0.000</td> <td>-1.48e+04</td> <td>-1.06e+04</td>\n",
       "</tr>\n",
       "<tr>\n",
       "  <th>age</th>              <td>  259.5474</td> <td>   13.013</td> <td>   19.946</td> <td> 0.000</td> <td>  234.014</td> <td>  285.081</td>\n",
       "</tr>\n",
       "<tr>\n",
       "  <th>bmi</th>              <td>  353.0377</td> <td>   31.141</td> <td>   11.337</td> <td> 0.000</td> <td>  291.932</td> <td>  414.143</td>\n",
       "</tr>\n",
       "<tr>\n",
       "  <th>children</th>         <td>  543.2893</td> <td>  150.674</td> <td>    3.606</td> <td> 0.000</td> <td>  247.636</td> <td>  838.942</td>\n",
       "</tr>\n",
       "<tr>\n",
       "  <th>sex_male</th>         <td> -254.3976</td> <td>  366.133</td> <td>   -0.695</td> <td> 0.487</td> <td> -972.825</td> <td>  464.030</td>\n",
       "</tr>\n",
       "<tr>\n",
       "  <th>smoker_yes</th>       <td> 2.412e+04</td> <td>  455.121</td> <td>   53.006</td> <td> 0.000</td> <td> 2.32e+04</td> <td>  2.5e+04</td>\n",
       "</tr>\n",
       "<tr>\n",
       "  <th>region_northwest</th> <td> -192.0025</td> <td>  519.443</td> <td>   -0.370</td> <td> 0.712</td> <td>-1211.254</td> <td>  827.249</td>\n",
       "</tr>\n",
       "<tr>\n",
       "  <th>region_southeast</th> <td> -896.1336</td> <td>  520.833</td> <td>   -1.721</td> <td> 0.086</td> <td>-1918.113</td> <td>  125.846</td>\n",
       "</tr>\n",
       "<tr>\n",
       "  <th>region_southwest</th> <td> -618.2897</td> <td>  519.929</td> <td>   -1.189</td> <td> 0.235</td> <td>-1638.497</td> <td>  401.917</td>\n",
       "</tr>\n",
       "</table>\n",
       "<table class=\"simpletable\">\n",
       "<tr>\n",
       "  <th>Omnibus:</th>       <td>228.399</td> <th>  Durbin-Watson:     </th> <td>   2.067</td> \n",
       "</tr>\n",
       "<tr>\n",
       "  <th>Prob(Omnibus):</th> <td> 0.000</td>  <th>  Jarque-Bera (JB):  </th> <td> 538.981</td> \n",
       "</tr>\n",
       "<tr>\n",
       "  <th>Skew:</th>          <td> 1.149</td>  <th>  Prob(JB):          </th> <td>9.15e-118</td>\n",
       "</tr>\n",
       "<tr>\n",
       "  <th>Kurtosis:</th>      <td> 5.609</td>  <th>  Cond. No.          </th> <td>    308.</td> \n",
       "</tr>\n",
       "</table><br/><br/>Notes:<br/>[1] Standard Errors assume that the covariance matrix of the errors is correctly specified."
      ],
      "text/plain": [
       "<class 'statsmodels.iolib.summary.Summary'>\n",
       "\"\"\"\n",
       "                            OLS Regression Results                            \n",
       "==============================================================================\n",
       "Dep. Variable:                charges   R-squared:                       0.764\n",
       "Model:                            OLS   Adj. R-squared:                  0.762\n",
       "Method:                 Least Squares   F-statistic:                     428.5\n",
       "Date:                Sat, 09 Oct 2021   Prob (F-statistic):               0.00\n",
       "Time:                        15:29:21   Log-Likelihood:                -10812.\n",
       "No. Observations:                1070   AIC:                         2.164e+04\n",
       "Df Residuals:                    1061   BIC:                         2.169e+04\n",
       "Df Model:                           8                                         \n",
       "Covariance Type:            nonrobust                                         \n",
       "====================================================================================\n",
       "                       coef    std err          t      P>|t|      [0.025      0.975]\n",
       "------------------------------------------------------------------------------------\n",
       "const            -1.272e+04   1068.346    -11.904      0.000   -1.48e+04   -1.06e+04\n",
       "age                259.5474     13.013     19.946      0.000     234.014     285.081\n",
       "bmi                353.0377     31.141     11.337      0.000     291.932     414.143\n",
       "children           543.2893    150.674      3.606      0.000     247.636     838.942\n",
       "sex_male          -254.3976    366.133     -0.695      0.487    -972.825     464.030\n",
       "smoker_yes        2.412e+04    455.121     53.006      0.000    2.32e+04     2.5e+04\n",
       "region_northwest  -192.0025    519.443     -0.370      0.712   -1211.254     827.249\n",
       "region_southeast  -896.1336    520.833     -1.721      0.086   -1918.113     125.846\n",
       "region_southwest  -618.2897    519.929     -1.189      0.235   -1638.497     401.917\n",
       "==============================================================================\n",
       "Omnibus:                      228.399   Durbin-Watson:                   2.067\n",
       "Prob(Omnibus):                  0.000   Jarque-Bera (JB):              538.981\n",
       "Skew:                           1.149   Prob(JB):                    9.15e-118\n",
       "Kurtosis:                       5.609   Cond. No.                         308.\n",
       "==============================================================================\n",
       "\n",
       "Notes:\n",
       "[1] Standard Errors assume that the covariance matrix of the errors is correctly specified.\n",
       "\"\"\""
      ]
     },
     "execution_count": 29,
     "metadata": {},
     "output_type": "execute_result"
    }
   ],
   "source": [
    "model_l=sm.OLS(y_train_l,x_train_l).fit()\n",
    "model_l.summary()"
   ]
  },
  {
   "cell_type": "markdown",
   "id": "cbd6daf1",
   "metadata": {},
   "source": [
    "* From above summary we can see that R square and Adj R square are similar.\n",
    "* Model is able to explain 76% of variance.\n",
    "* There is no Auto correlation confirmed by Durbin Watson test\n",
    "* There is Moderate Multicollinearity as per Condition Number.\n",
    "* As per JB test the model residuals are not normally distributed"
   ]
  },
  {
   "cell_type": "code",
   "execution_count": 30,
   "id": "09c99a88",
   "metadata": {},
   "outputs": [],
   "source": [
    "def adj_r(ytest,ypred):\n",
    "    result = 1 - (1-r2_score(ytest,ypred))*(len(y)-1)/(len(y)-X.shape[1]-1)\n",
    "    return result"
   ]
  },
  {
   "cell_type": "code",
   "execution_count": 31,
   "id": "87bda392",
   "metadata": {},
   "outputs": [
    {
     "data": {
      "text/html": [
       "<div>\n",
       "<style scoped>\n",
       "    .dataframe tbody tr th:only-of-type {\n",
       "        vertical-align: middle;\n",
       "    }\n",
       "\n",
       "    .dataframe tbody tr th {\n",
       "        vertical-align: top;\n",
       "    }\n",
       "\n",
       "    .dataframe thead th {\n",
       "        text-align: right;\n",
       "    }\n",
       "</style>\n",
       "<table border=\"1\" class=\"dataframe\">\n",
       "  <thead>\n",
       "    <tr style=\"text-align: right;\">\n",
       "      <th></th>\n",
       "      <th>Model_Name</th>\n",
       "      <th>R-Squared</th>\n",
       "      <th>Adj. R-Squared</th>\n",
       "      <th>RMSE Train</th>\n",
       "      <th>RMSE Test</th>\n",
       "    </tr>\n",
       "  </thead>\n",
       "  <tbody>\n",
       "  </tbody>\n",
       "</table>\n",
       "</div>"
      ],
      "text/plain": [
       "Empty DataFrame\n",
       "Columns: [Model_Name, R-Squared, Adj. R-Squared, RMSE Train, RMSE Test]\n",
       "Index: []"
      ]
     },
     "execution_count": 31,
     "metadata": {},
     "output_type": "execute_result"
    }
   ],
   "source": [
    "score_card = pd.DataFrame(columns=['Model_Name', 'R-Squared', 'Adj. R-Squared', 'RMSE Train','RMSE Test'])\n",
    "\n",
    "# print the score card\n",
    "score_card"
   ]
  },
  {
   "cell_type": "code",
   "execution_count": 32,
   "id": "d3ee063b",
   "metadata": {},
   "outputs": [
    {
     "data": {
      "text/html": [
       "<div>\n",
       "<style scoped>\n",
       "    .dataframe tbody tr th:only-of-type {\n",
       "        vertical-align: middle;\n",
       "    }\n",
       "\n",
       "    .dataframe tbody tr th {\n",
       "        vertical-align: top;\n",
       "    }\n",
       "\n",
       "    .dataframe thead th {\n",
       "        text-align: right;\n",
       "    }\n",
       "</style>\n",
       "<table border=\"1\" class=\"dataframe\">\n",
       "  <thead>\n",
       "    <tr style=\"text-align: right;\">\n",
       "      <th></th>\n",
       "      <th>Model_Name</th>\n",
       "      <th>R-Squared</th>\n",
       "      <th>Adj. R-Squared</th>\n",
       "      <th>RMSE Train</th>\n",
       "      <th>RMSE Test</th>\n",
       "    </tr>\n",
       "  </thead>\n",
       "  <tbody>\n",
       "    <tr>\n",
       "      <th>0</th>\n",
       "      <td>Base Model Sklearn</td>\n",
       "      <td>0.799988</td>\n",
       "      <td>0.798784</td>\n",
       "      <td>6140.157419</td>\n",
       "      <td>5641.626559</td>\n",
       "    </tr>\n",
       "  </tbody>\n",
       "</table>\n",
       "</div>"
      ],
      "text/plain": [
       "           Model_Name  R-Squared  Adj. R-Squared   RMSE Train    RMSE Test\n",
       "0  Base Model Sklearn   0.799988        0.798784  6140.157419  5641.626559"
      ]
     },
     "execution_count": 32,
     "metadata": {},
     "output_type": "execute_result"
    }
   ],
   "source": [
    "base_model_sklearn = pd.Series({'Model_Name' : 'Base Model Sklearn',\n",
    "           'R-Squared' : r2_score(y_test,ypred_test),\n",
    "           'Adj. R-Squared' : adj_r(y_test,ypred_test),\n",
    "           'RMSE Train' : rmse_train,\n",
    "           'RMSE Test' : rmse_test})\n",
    "\n",
    "score_card=score_card.append(base_model_sklearn,ignore_index=True)\n",
    "\n",
    "score_card"
   ]
  },
  {
   "cell_type": "markdown",
   "id": "98702a6a",
   "metadata": {},
   "source": [
    "### Distribution of Target"
   ]
  },
  {
   "cell_type": "code",
   "execution_count": 33,
   "id": "6447f189",
   "metadata": {},
   "outputs": [
    {
     "data": {
      "image/png": "[encoded data removed]",
      "text/plain": [
       "<Figure size 720x576 with 1 Axes>"
      ]
     },
     "metadata": {
      "needs_background": "light"
     },
     "output_type": "display_data"
    }
   ],
   "source": [
    "plt.figure(figsize=(10,8))\n",
    "sns.distplot(df['charges'])\n",
    "plt.show()"
   ]
  },
  {
   "cell_type": "markdown",
   "id": "2193b142",
   "metadata": {},
   "source": [
    "Inference:\n",
    "\n",
    "    -- As it is right skewed data.\n",
    "    -- We will apply log transform and test if that will improve the performance."
   ]
  },
  {
   "cell_type": "code",
   "execution_count": 34,
   "id": "59149f9e",
   "metadata": {},
   "outputs": [
    {
     "data": {
      "image/png": "[encoded data removed]",
      "text/plain": [
       "<Figure size 720x576 with 1 Axes>"
      ]
     },
     "metadata": {
      "needs_background": "light"
     },
     "output_type": "display_data"
    }
   ],
   "source": [
    "target_log = np.log(df['charges'])\n",
    "plt.figure(figsize=(10,8))\n",
    "sns.distplot(target_log)\n",
    "plt.show()"
   ]
  },
  {
   "cell_type": "code",
   "execution_count": 35,
   "id": "c426d03a",
   "metadata": {},
   "outputs": [
    {
     "name": "stdout",
     "output_type": "stream",
     "text": [
      "X Train shape:  (1070, 8)\n",
      "X Test shape:  (268, 8)\n",
      "Y Train shape:  (1070,)\n",
      "Y Test shape:  (268,)\n"
     ]
    }
   ],
   "source": [
    "X_log = df_encode.drop('charges',1)\n",
    "y_log = target_log\n",
    "\n",
    "x_train_log,x_test_log,y_train_log,y_test_log = train_test_split(X_log,y_log,test_size=0.20,random_state=0)\n",
    "\n",
    "print('X Train shape: ',x_train_log.shape)\n",
    "print('X Test shape: ',x_test_log.shape)\n",
    "print('Y Train shape: ',y_train_log.shape)\n",
    "print('Y Test shape: ',y_test_log.shape)"
   ]
  },
  {
   "cell_type": "code",
   "execution_count": 36,
   "id": "b6ff7cf3",
   "metadata": {},
   "outputs": [
    {
     "name": "stdout",
     "output_type": "stream",
     "text": [
      "\u001b[1mR Square\n",
      "--------------------------\n",
      "0.5466423980693151\n",
      "\n",
      "\n",
      "\u001b[1mRMSE of Train Data\n",
      "--------------------------\n",
      "8370.445972552421\n",
      "\n",
      "\n",
      "\u001b[1mRMSE of Test Data\n",
      "--------------------------\n",
      "8493.69048845548\n"
     ]
    }
   ],
   "source": [
    "lr = LinearRegression()\n",
    "model_log = lr.fit(x_train_log,y_train_log)\n",
    "ypred_train_log = model_log.predict(x_train_log)\n",
    "ypred_test_log = model_log.predict(x_test_log)\n",
    "\n",
    "predicted_val_train = np.exp(ypred_train_log)\n",
    "predicted_val_test = np.exp(ypred_test_log)\n",
    "\n",
    "mse_train_log = mean_squared_error(y_train,predicted_val_train)\n",
    "mse_test_log = mean_squared_error(y_test,predicted_val_test)\n",
    "\n",
    "rmse_train_log = np.sqrt(mse_train_log)\n",
    "rmse_test_log = np.sqrt(mse_test_log)\n",
    "\n",
    "print(f\"{style.BOLD}R Square\")\n",
    "print('--------------------------')\n",
    "print((r2_score(y_test,predicted_val_test)))\n",
    "print('\\n')\n",
    "print(f\"{style.BOLD}RMSE of Train Data\")\n",
    "print('--------------------------')\n",
    "print(rmse_train_log)\n",
    "print('\\n')\n",
    "print(f\"{style.BOLD}RMSE of Test Data\")\n",
    "print('--------------------------')\n",
    "print(rmse_test_log)"
   ]
  },
  {
   "cell_type": "code",
   "execution_count": 37,
   "id": "0801312d",
   "metadata": {},
   "outputs": [
    {
     "data": {
      "text/html": [
       "<div>\n",
       "<style scoped>\n",
       "    .dataframe tbody tr th:only-of-type {\n",
       "        vertical-align: middle;\n",
       "    }\n",
       "\n",
       "    .dataframe tbody tr th {\n",
       "        vertical-align: top;\n",
       "    }\n",
       "\n",
       "    .dataframe thead th {\n",
       "        text-align: right;\n",
       "    }\n",
       "</style>\n",
       "<table border=\"1\" class=\"dataframe\">\n",
       "  <thead>\n",
       "    <tr style=\"text-align: right;\">\n",
       "      <th></th>\n",
       "      <th>Model_Name</th>\n",
       "      <th>R-Squared</th>\n",
       "      <th>Adj. R-Squared</th>\n",
       "      <th>RMSE Train</th>\n",
       "      <th>RMSE Test</th>\n",
       "    </tr>\n",
       "  </thead>\n",
       "  <tbody>\n",
       "    <tr>\n",
       "      <th>0</th>\n",
       "      <td>Base Model Sklearn</td>\n",
       "      <td>0.799988</td>\n",
       "      <td>0.798784</td>\n",
       "      <td>6140.157419</td>\n",
       "      <td>5641.626559</td>\n",
       "    </tr>\n",
       "    <tr>\n",
       "      <th>1</th>\n",
       "      <td>Target Log Model</td>\n",
       "      <td>0.546642</td>\n",
       "      <td>0.543913</td>\n",
       "      <td>8370.445973</td>\n",
       "      <td>8493.690488</td>\n",
       "    </tr>\n",
       "  </tbody>\n",
       "</table>\n",
       "</div>"
      ],
      "text/plain": [
       "           Model_Name  R-Squared  Adj. R-Squared   RMSE Train    RMSE Test\n",
       "0  Base Model Sklearn   0.799988        0.798784  6140.157419  5641.626559\n",
       "1    Target Log Model   0.546642        0.543913  8370.445973  8493.690488"
      ]
     },
     "execution_count": 37,
     "metadata": {},
     "output_type": "execute_result"
    }
   ],
   "source": [
    "target_log_sklearn = pd.Series({'Model_Name' : 'Target Log Model',\n",
    "           'R-Squared' : r2_score(y_test,predicted_val_test),\n",
    "           'Adj. R-Squared' : adj_r(y_test,predicted_val_test),\n",
    "           'RMSE Train' : rmse_train_log,\n",
    "           'RMSE Test' : rmse_test_log})\n",
    "\n",
    "score_card=score_card.append(target_log_sklearn,ignore_index=True)\n",
    "score_card"
   ]
  },
  {
   "cell_type": "markdown",
   "id": "08189041",
   "metadata": {},
   "source": [
    "Inference:\n",
    "    \n",
    "    -- As the Base model is providing us a good results compare to log tarsformed target column.\n",
    "    -- We will proceed with Base model."
   ]
  },
  {
   "cell_type": "code",
   "execution_count": null,
   "id": "8de81993",
   "metadata": {},
   "outputs": [],
   "source": []
  },
  {
   "cell_type": "markdown",
   "id": "a510998f",
   "metadata": {},
   "source": [
    "### Feature Selection:"
   ]
  },
  {
   "cell_type": "markdown",
   "id": "af9ce4ee",
   "metadata": {},
   "source": [
    "Forward selection"
   ]
  },
  {
   "cell_type": "code",
   "execution_count": 55,
   "id": "d522224c",
   "metadata": {},
   "outputs": [],
   "source": [
    "# Build Lin Reg  to use in feature selection\n",
    "linR = LinearRegression()\n",
    "\n",
    "# Build step forward feature selection/backward elimination\n",
    "sfs1 = sfs(linR, k_features=6, forward=True,scoring='r2', cv=5)\n",
    "\n",
    "# Perform SFFS\n",
    "sfs1 = sfs1.fit(x_train.values, y_train.values)\n"
   ]
  },
  {
   "cell_type": "code",
   "execution_count": 56,
   "id": "817779cd",
   "metadata": {},
   "outputs": [
    {
     "data": {
      "text/plain": [
       "('0', '1', '2', '4', '6', '7')"
      ]
     },
     "execution_count": 56,
     "metadata": {},
     "output_type": "execute_result"
    }
   ],
   "source": [
    "sfs1.k_feature_names_"
   ]
  },
  {
   "cell_type": "code",
   "execution_count": 39,
   "id": "8071ab91",
   "metadata": {},
   "outputs": [
    {
     "data": {
      "image/png": "[encoded data removed]",
      "text/plain": [
       "<Figure size 1584x504 with 1 Axes>"
      ]
     },
     "metadata": {
      "needs_background": "light"
     },
     "output_type": "display_data"
    }
   ],
   "source": [
    "fig = plot_sfs(sfs1.get_metric_dict())\n",
    "\n",
    "plt.title('Sequential Forward Selection (w. R^2)')\n",
    "plt.grid()\n",
    "plt.show()"
   ]
  },
  {
   "cell_type": "markdown",
   "id": "d97f1cd0",
   "metadata": {},
   "source": [
    "Backward Feature Elimination"
   ]
  },
  {
   "cell_type": "code",
   "execution_count": 58,
   "id": "1b872c5e",
   "metadata": {},
   "outputs": [],
   "source": [
    "# Build Lin Reg  to use in feature selection\n",
    "linR = LinearRegression()\n",
    "\n",
    "# Build step forward feature selection/backward elimination\n",
    "sfs2 = sfs(linR, k_features=6, forward=False,scoring='r2', cv=5)\n",
    "\n",
    "# Perform SFFS\n",
    "sfs2 = sfs2.fit(x_train.values, y_train.values)"
   ]
  },
  {
   "cell_type": "code",
   "execution_count": 59,
   "id": "43821caf",
   "metadata": {},
   "outputs": [
    {
     "data": {
      "text/plain": [
       "('0', '1', '2', '4', '6', '7')"
      ]
     },
     "execution_count": 59,
     "metadata": {},
     "output_type": "execute_result"
    }
   ],
   "source": [
    "sfs2.k_feature_names_"
   ]
  },
  {
   "cell_type": "markdown",
   "id": "df0769c2",
   "metadata": {},
   "source": [
    "Recurssive Feature Elimination"
   ]
  },
  {
   "cell_type": "code",
   "execution_count": 42,
   "id": "0ccd5279",
   "metadata": {},
   "outputs": [
    {
     "name": "stdout",
     "output_type": "stream",
     "text": [
      "Index(['age', 'bmi', 'children', 'smoker_yes', 'region_northwest',\n",
      "       'region_southeast', 'region_southwest'],\n",
      "      dtype='object')\n"
     ]
    }
   ],
   "source": [
    "lr = LinearRegression()\n",
    "lr.fit(x_train.values, y_train.values)\n",
    "\n",
    "rfe_model = RFECV(estimator=lr, min_features_to_select=1)\n",
    "\n",
    "\n",
    "rfe_model = rfe_model.fit(x_train.values, y_train.values)\n",
    " \n",
    "feat_index = pd.Series(data = rfe_model.ranking_, index = X.columns)\n",
    "\n",
    "signi_feat_rfe = feat_index[feat_index==1].index\n",
    "\n",
    "# print the significant features obtained from RFE\n",
    "print(signi_feat_rfe)"
   ]
  },
  {
   "cell_type": "markdown",
   "id": "2e919ad3",
   "metadata": {},
   "source": [
    "Based On p-values:"
   ]
  },
  {
   "cell_type": "code",
   "execution_count": 60,
   "id": "c511e3ba",
   "metadata": {},
   "outputs": [
    {
     "data": {
      "text/html": [
       "<table class=\"simpletable\">\n",
       "<caption>OLS Regression Results</caption>\n",
       "<tr>\n",
       "  <th>Dep. Variable:</th>         <td>charges</td>     <th>  R-squared:         </th> <td>   0.764</td> \n",
       "</tr>\n",
       "<tr>\n",
       "  <th>Model:</th>                   <td>OLS</td>       <th>  Adj. R-squared:    </th> <td>   0.762</td> \n",
       "</tr>\n",
       "<tr>\n",
       "  <th>Method:</th>             <td>Least Squares</td>  <th>  F-statistic:       </th> <td>   428.5</td> \n",
       "</tr>\n",
       "<tr>\n",
       "  <th>Date:</th>             <td>Sat, 09 Oct 2021</td> <th>  Prob (F-statistic):</th>  <td>  0.00</td>  \n",
       "</tr>\n",
       "<tr>\n",
       "  <th>Time:</th>                 <td>15:41:05</td>     <th>  Log-Likelihood:    </th> <td> -10812.</td> \n",
       "</tr>\n",
       "<tr>\n",
       "  <th>No. Observations:</th>      <td>  1070</td>      <th>  AIC:               </th> <td>2.164e+04</td>\n",
       "</tr>\n",
       "<tr>\n",
       "  <th>Df Residuals:</th>          <td>  1061</td>      <th>  BIC:               </th> <td>2.169e+04</td>\n",
       "</tr>\n",
       "<tr>\n",
       "  <th>Df Model:</th>              <td>     8</td>      <th>                     </th>     <td> </td>    \n",
       "</tr>\n",
       "<tr>\n",
       "  <th>Covariance Type:</th>      <td>nonrobust</td>    <th>                     </th>     <td> </td>    \n",
       "</tr>\n",
       "</table>\n",
       "<table class=\"simpletable\">\n",
       "<tr>\n",
       "          <td></td>            <th>coef</th>     <th>std err</th>      <th>t</th>      <th>P>|t|</th>  <th>[0.025</th>    <th>0.975]</th>  \n",
       "</tr>\n",
       "<tr>\n",
       "  <th>const</th>            <td>-1.272e+04</td> <td> 1068.346</td> <td>  -11.904</td> <td> 0.000</td> <td>-1.48e+04</td> <td>-1.06e+04</td>\n",
       "</tr>\n",
       "<tr>\n",
       "  <th>age</th>              <td>  259.5474</td> <td>   13.013</td> <td>   19.946</td> <td> 0.000</td> <td>  234.014</td> <td>  285.081</td>\n",
       "</tr>\n",
       "<tr>\n",
       "  <th>bmi</th>              <td>  353.0377</td> <td>   31.141</td> <td>   11.337</td> <td> 0.000</td> <td>  291.932</td> <td>  414.143</td>\n",
       "</tr>\n",
       "<tr>\n",
       "  <th>children</th>         <td>  543.2893</td> <td>  150.674</td> <td>    3.606</td> <td> 0.000</td> <td>  247.636</td> <td>  838.942</td>\n",
       "</tr>\n",
       "<tr>\n",
       "  <th>sex_male</th>         <td> -254.3976</td> <td>  366.133</td> <td>   -0.695</td> <td> 0.487</td> <td> -972.825</td> <td>  464.030</td>\n",
       "</tr>\n",
       "<tr>\n",
       "  <th>smoker_yes</th>       <td> 2.412e+04</td> <td>  455.121</td> <td>   53.006</td> <td> 0.000</td> <td> 2.32e+04</td> <td>  2.5e+04</td>\n",
       "</tr>\n",
       "<tr>\n",
       "  <th>region_northwest</th> <td> -192.0025</td> <td>  519.443</td> <td>   -0.370</td> <td> 0.712</td> <td>-1211.254</td> <td>  827.249</td>\n",
       "</tr>\n",
       "<tr>\n",
       "  <th>region_southeast</th> <td> -896.1336</td> <td>  520.833</td> <td>   -1.721</td> <td> 0.086</td> <td>-1918.113</td> <td>  125.846</td>\n",
       "</tr>\n",
       "<tr>\n",
       "  <th>region_southwest</th> <td> -618.2897</td> <td>  519.929</td> <td>   -1.189</td> <td> 0.235</td> <td>-1638.497</td> <td>  401.917</td>\n",
       "</tr>\n",
       "</table>\n",
       "<table class=\"simpletable\">\n",
       "<tr>\n",
       "  <th>Omnibus:</th>       <td>228.399</td> <th>  Durbin-Watson:     </th> <td>   2.067</td> \n",
       "</tr>\n",
       "<tr>\n",
       "  <th>Prob(Omnibus):</th> <td> 0.000</td>  <th>  Jarque-Bera (JB):  </th> <td> 538.981</td> \n",
       "</tr>\n",
       "<tr>\n",
       "  <th>Skew:</th>          <td> 1.149</td>  <th>  Prob(JB):          </th> <td>9.15e-118</td>\n",
       "</tr>\n",
       "<tr>\n",
       "  <th>Kurtosis:</th>      <td> 5.609</td>  <th>  Cond. No.          </th> <td>    308.</td> \n",
       "</tr>\n",
       "</table><br/><br/>Notes:<br/>[1] Standard Errors assume that the covariance matrix of the errors is correctly specified."
      ],
      "text/plain": [
       "<class 'statsmodels.iolib.summary.Summary'>\n",
       "\"\"\"\n",
       "                            OLS Regression Results                            \n",
       "==============================================================================\n",
       "Dep. Variable:                charges   R-squared:                       0.764\n",
       "Model:                            OLS   Adj. R-squared:                  0.762\n",
       "Method:                 Least Squares   F-statistic:                     428.5\n",
       "Date:                Sat, 09 Oct 2021   Prob (F-statistic):               0.00\n",
       "Time:                        15:41:05   Log-Likelihood:                -10812.\n",
       "No. Observations:                1070   AIC:                         2.164e+04\n",
       "Df Residuals:                    1061   BIC:                         2.169e+04\n",
       "Df Model:                           8                                         \n",
       "Covariance Type:            nonrobust                                         \n",
       "====================================================================================\n",
       "                       coef    std err          t      P>|t|      [0.025      0.975]\n",
       "------------------------------------------------------------------------------------\n",
       "const            -1.272e+04   1068.346    -11.904      0.000   -1.48e+04   -1.06e+04\n",
       "age                259.5474     13.013     19.946      0.000     234.014     285.081\n",
       "bmi                353.0377     31.141     11.337      0.000     291.932     414.143\n",
       "children           543.2893    150.674      3.606      0.000     247.636     838.942\n",
       "sex_male          -254.3976    366.133     -0.695      0.487    -972.825     464.030\n",
       "smoker_yes        2.412e+04    455.121     53.006      0.000    2.32e+04     2.5e+04\n",
       "region_northwest  -192.0025    519.443     -0.370      0.712   -1211.254     827.249\n",
       "region_southeast  -896.1336    520.833     -1.721      0.086   -1918.113     125.846\n",
       "region_southwest  -618.2897    519.929     -1.189      0.235   -1638.497     401.917\n",
       "==============================================================================\n",
       "Omnibus:                      228.399   Durbin-Watson:                   2.067\n",
       "Prob(Omnibus):                  0.000   Jarque-Bera (JB):              538.981\n",
       "Skew:                           1.149   Prob(JB):                    9.15e-118\n",
       "Kurtosis:                       5.609   Cond. No.                         308.\n",
       "==============================================================================\n",
       "\n",
       "Notes:\n",
       "[1] Standard Errors assume that the covariance matrix of the errors is correctly specified.\n",
       "\"\"\""
      ]
     },
     "execution_count": 60,
     "metadata": {},
     "output_type": "execute_result"
    }
   ],
   "source": [
    "model_l.summary()"
   ]
  },
  {
   "cell_type": "code",
   "execution_count": 61,
   "id": "6bd15af8",
   "metadata": {},
   "outputs": [
    {
     "data": {
      "text/plain": [
       "Index(['const', 'age', 'bmi', 'children', 'smoker_yes'], dtype='object')"
      ]
     },
     "execution_count": 61,
     "metadata": {},
     "output_type": "execute_result"
    }
   ],
   "source": [
    "model_l.pvalues[model_l.pvalues<0.05].index"
   ]
  },
  {
   "cell_type": "markdown",
   "id": "b2bca10b",
   "metadata": {},
   "source": [
    "Inference:\n",
    "    \n",
    "    -- Based on the Bivariate Analysis\n",
    "    -- All the feature selection methods peformed above , the important features obtained are 'age', 'bmi', 'children',            'smoker_yes'"
   ]
  },
  {
   "cell_type": "code",
   "execution_count": 62,
   "id": "5c7206b1",
   "metadata": {},
   "outputs": [
    {
     "name": "stdout",
     "output_type": "stream",
     "text": [
      "X Train shape:  (1070, 4)\n",
      "X Test shape:  (268, 4)\n",
      "Y Train shape:  (1070,)\n",
      "Y Test shape:  (268,)\n"
     ]
    }
   ],
   "source": [
    "X_sig= df_encode.drop(['charges','sex_male','region_northwest','region_southeast','region_southwest'],1)\n",
    "y_sig = df.charges\n",
    "\n",
    "x_train_sig,x_test_sig,y_train_sig,y_test_sig = train_test_split(X_sig,y_sig,test_size=0.20,random_state=0)\n",
    "\n",
    "print('X Train shape: ',x_train_sig.shape)\n",
    "print('X Test shape: ',x_test_sig.shape)\n",
    "print('Y Train shape: ',y_train_sig.shape)\n",
    "print('Y Test shape: ',y_test_sig.shape)"
   ]
  },
  {
   "cell_type": "code",
   "execution_count": 63,
   "id": "ab2c5314",
   "metadata": {},
   "outputs": [
    {
     "name": "stdout",
     "output_type": "stream",
     "text": [
      "\u001b[1mR Square\n",
      "--------------------------\n",
      "0.798\n",
      "\n",
      "\n",
      "\u001b[1mRMSE of Train Data\n",
      "--------------------------\n",
      "6150.52\n",
      "\n",
      "\n",
      "\u001b[1mRMSE of Test Data\n",
      "--------------------------\n",
      "5672.01\n"
     ]
    }
   ],
   "source": [
    "lr = LinearRegression()\n",
    "model_sig = lr.fit(x_train_sig,y_train_sig)\n",
    "\n",
    "ypred_train_sig = model_sig.predict(x_train_sig)\n",
    "ypred_test_sig = model_sig.predict(x_test_sig)\n",
    "\n",
    "mse_train_sig = mean_squared_error(y_train_sig,ypred_train_sig)\n",
    "mse_test_sig = mean_squared_error(y_test_sig,ypred_test_sig)\n",
    "\n",
    "rmse_train_sig = np.sqrt(mse_train_sig)\n",
    "rmse_test_sig = np.sqrt(mse_test_sig)\n",
    "\n",
    "print(f\"{style.BOLD}R Square\")\n",
    "print('--------------------------')\n",
    "print(round(r2_score(y_test_sig,ypred_test_sig),3))\n",
    "print('\\n')\n",
    "print(f\"{style.BOLD}RMSE of Train Data\")\n",
    "print('--------------------------')\n",
    "print(round(rmse_train_sig,2))\n",
    "print('\\n')\n",
    "print(f\"{style.BOLD}RMSE of Test Data\")\n",
    "print('--------------------------')\n",
    "print(round(rmse_test_sig,2))"
   ]
  },
  {
   "cell_type": "code",
   "execution_count": 64,
   "id": "b75bfe72",
   "metadata": {},
   "outputs": [
    {
     "data": {
      "text/html": [
       "<div>\n",
       "<style scoped>\n",
       "    .dataframe tbody tr th:only-of-type {\n",
       "        vertical-align: middle;\n",
       "    }\n",
       "\n",
       "    .dataframe tbody tr th {\n",
       "        vertical-align: top;\n",
       "    }\n",
       "\n",
       "    .dataframe thead th {\n",
       "        text-align: right;\n",
       "    }\n",
       "</style>\n",
       "<table border=\"1\" class=\"dataframe\">\n",
       "  <thead>\n",
       "    <tr style=\"text-align: right;\">\n",
       "      <th></th>\n",
       "      <th>Model_Name</th>\n",
       "      <th>R-Squared</th>\n",
       "      <th>Adj. R-Squared</th>\n",
       "      <th>RMSE Train</th>\n",
       "      <th>RMSE Test</th>\n",
       "    </tr>\n",
       "  </thead>\n",
       "  <tbody>\n",
       "    <tr>\n",
       "      <th>0</th>\n",
       "      <td>Base Model Sklearn</td>\n",
       "      <td>0.799988</td>\n",
       "      <td>0.798784</td>\n",
       "      <td>6140.157419</td>\n",
       "      <td>5641.626559</td>\n",
       "    </tr>\n",
       "    <tr>\n",
       "      <th>1</th>\n",
       "      <td>Target Log Model</td>\n",
       "      <td>0.546642</td>\n",
       "      <td>0.543913</td>\n",
       "      <td>8370.445973</td>\n",
       "      <td>8493.690488</td>\n",
       "    </tr>\n",
       "    <tr>\n",
       "      <th>2</th>\n",
       "      <td>Model with Significant Feature</td>\n",
       "      <td>0.797827</td>\n",
       "      <td>0.796610</td>\n",
       "      <td>6150.519470</td>\n",
       "      <td>5672.010981</td>\n",
       "    </tr>\n",
       "  </tbody>\n",
       "</table>\n",
       "</div>"
      ],
      "text/plain": [
       "                       Model_Name  R-Squared  Adj. R-Squared   RMSE Train  \\\n",
       "0              Base Model Sklearn   0.799988        0.798784  6140.157419   \n",
       "1                Target Log Model   0.546642        0.543913  8370.445973   \n",
       "2  Model with Significant Feature   0.797827        0.796610  6150.519470   \n",
       "\n",
       "     RMSE Test  \n",
       "0  5641.626559  \n",
       "1  8493.690488  \n",
       "2  5672.010981  "
      ]
     },
     "execution_count": 64,
     "metadata": {},
     "output_type": "execute_result"
    }
   ],
   "source": [
    "sig_model = pd.Series({'Model_Name' : 'Model with Significant Feature',\n",
    "           'R-Squared' : r2_score(y_test_sig,ypred_test_sig),\n",
    "           'Adj. R-Squared' : adj_r(y_test_sig,ypred_test_sig),\n",
    "           'RMSE Train' : rmse_train_sig,\n",
    "           'RMSE Test' : rmse_test_sig})\n",
    "\n",
    "score_card=score_card.append(sig_model,ignore_index=True)\n",
    "score_card"
   ]
  },
  {
   "cell_type": "markdown",
   "id": "5e6bd8bd",
   "metadata": {},
   "source": [
    "### Polynomial Regression"
   ]
  },
  {
   "cell_type": "code",
   "execution_count": 74,
   "id": "ce3e9fab",
   "metadata": {},
   "outputs": [
    {
     "name": "stdout",
     "output_type": "stream",
     "text": [
      "X Train shape:  (1070, 15)\n",
      "X Test shape:  (268, 15)\n",
      "Y Train shape:  (1070,)\n",
      "Y Test shape:  (268,)\n"
     ]
    }
   ],
   "source": [
    "#Grouping non linear features to raise degree.\n",
    "x_nonlinear=df_encode[['age', 'bmi', 'children','smoker_yes']]\n",
    "y_p=df.charges\n",
    "\n",
    "#Genearting polynomial features and loading it as a dataframe\n",
    "quad = PolynomialFeatures(degree = 2)\n",
    "x_quad = quad.fit_transform(x_nonlinear)\n",
    "\n",
    "X_train_p,X_test_p,y_train_p,y_test_p = train_test_split(x_quad,y_p,test_size=0.20 ,random_state = 0)\n",
    "\n",
    "print('X Train shape: ',X_train_p.shape)\n",
    "print('X Test shape: ',X_test_p.shape)\n",
    "print('Y Train shape: ',y_train_p.shape)\n",
    "print('Y Test shape: ',y_test_p.shape)"
   ]
  },
  {
   "cell_type": "code",
   "execution_count": 75,
   "id": "c4f4d125",
   "metadata": {},
   "outputs": [
    {
     "name": "stdout",
     "output_type": "stream",
     "text": [
      "\u001b[1mR Square\n",
      "--------------------------\n",
      "0.881\n",
      "\n",
      "\n",
      "\u001b[1mRMSE of Train Data\n",
      "--------------------------\n",
      "4902.87\n",
      "\n",
      "\n",
      "\u001b[1mRMSE of Test Data\n",
      "--------------------------\n",
      "4346.86\n"
     ]
    }
   ],
   "source": [
    "lr = LinearRegression()\n",
    "model_p = lr.fit(X_train_p,y_train_p)\n",
    "\n",
    "ypred_train_p = model_p.predict(X_train_p)\n",
    "ypred_test_p = model_p.predict(X_test_p)\n",
    "\n",
    "mse_train_p = mean_squared_error(y_train_p,ypred_train_p)\n",
    "mse_test_p = mean_squared_error(y_test_sig,ypred_test_p)\n",
    "\n",
    "rmse_train_p = np.sqrt(mse_train_p)\n",
    "rmse_test_p = np.sqrt(mse_test_p)\n",
    "\n",
    "print(f\"{style.BOLD}R Square\")\n",
    "print('--------------------------')\n",
    "print(round(r2_score(y_test_sig,ypred_test_p),3))\n",
    "print('\\n')\n",
    "print(f\"{style.BOLD}RMSE of Train Data\")\n",
    "print('--------------------------')\n",
    "print(round(rmse_train_p,2))\n",
    "print('\\n')\n",
    "print(f\"{style.BOLD}RMSE of Test Data\")\n",
    "print('--------------------------')\n",
    "print(round(rmse_test_p,2))"
   ]
  },
  {
   "cell_type": "code",
   "execution_count": 69,
   "id": "e56c6d8b",
   "metadata": {},
   "outputs": [
    {
     "data": {
      "text/html": [
       "<div>\n",
       "<style scoped>\n",
       "    .dataframe tbody tr th:only-of-type {\n",
       "        vertical-align: middle;\n",
       "    }\n",
       "\n",
       "    .dataframe tbody tr th {\n",
       "        vertical-align: top;\n",
       "    }\n",
       "\n",
       "    .dataframe thead th {\n",
       "        text-align: right;\n",
       "    }\n",
       "</style>\n",
       "<table border=\"1\" class=\"dataframe\">\n",
       "  <thead>\n",
       "    <tr style=\"text-align: right;\">\n",
       "      <th></th>\n",
       "      <th>Model_Name</th>\n",
       "      <th>R-Squared</th>\n",
       "      <th>Adj. R-Squared</th>\n",
       "      <th>RMSE Train</th>\n",
       "      <th>RMSE Test</th>\n",
       "    </tr>\n",
       "  </thead>\n",
       "  <tbody>\n",
       "    <tr>\n",
       "      <th>0</th>\n",
       "      <td>Base Model Sklearn</td>\n",
       "      <td>0.799988</td>\n",
       "      <td>0.798784</td>\n",
       "      <td>6140.157419</td>\n",
       "      <td>5641.626559</td>\n",
       "    </tr>\n",
       "    <tr>\n",
       "      <th>1</th>\n",
       "      <td>Target Log Model</td>\n",
       "      <td>0.546642</td>\n",
       "      <td>0.543913</td>\n",
       "      <td>8370.445973</td>\n",
       "      <td>8493.690488</td>\n",
       "    </tr>\n",
       "    <tr>\n",
       "      <th>2</th>\n",
       "      <td>Model with Significant Feature</td>\n",
       "      <td>0.797827</td>\n",
       "      <td>0.796610</td>\n",
       "      <td>6150.519470</td>\n",
       "      <td>5672.010981</td>\n",
       "    </tr>\n",
       "    <tr>\n",
       "      <th>3</th>\n",
       "      <td>Model with Polynomial Features</td>\n",
       "      <td>0.881260</td>\n",
       "      <td>0.880545</td>\n",
       "      <td>4902.872472</td>\n",
       "      <td>4346.856347</td>\n",
       "    </tr>\n",
       "  </tbody>\n",
       "</table>\n",
       "</div>"
      ],
      "text/plain": [
       "                       Model_Name  R-Squared  Adj. R-Squared   RMSE Train  \\\n",
       "0              Base Model Sklearn   0.799988        0.798784  6140.157419   \n",
       "1                Target Log Model   0.546642        0.543913  8370.445973   \n",
       "2  Model with Significant Feature   0.797827        0.796610  6150.519470   \n",
       "3  Model with Polynomial Features   0.881260        0.880545  4902.872472   \n",
       "\n",
       "     RMSE Test  \n",
       "0  5641.626559  \n",
       "1  8493.690488  \n",
       "2  5672.010981  \n",
       "3  4346.856347  "
      ]
     },
     "execution_count": 69,
     "metadata": {},
     "output_type": "execute_result"
    }
   ],
   "source": [
    "ploy_model = pd.Series({'Model_Name' : 'Model with Polynomial Features',\n",
    "           'R-Squared' : r2_score(y_test_sig,ypred_test_p),\n",
    "           'Adj. R-Squared' : adj_r(y_test_sig,ypred_test_p),\n",
    "           'RMSE Train' : rmse_train_p,\n",
    "           'RMSE Test' : rmse_test_p})\n",
    "\n",
    "score_card=score_card.append(ploy_model,ignore_index=True)\n",
    "score_card"
   ]
  },
  {
   "cell_type": "markdown",
   "id": "8ef9a3e7",
   "metadata": {},
   "source": [
    "## Conclusion on Linear Model"
   ]
  },
  {
   "cell_type": "markdown",
   "id": "519ea0b1",
   "metadata": {},
   "source": [
    "   **From the above score card we can conclude that the Model with Polynomial degree as 2 is able to explain \n",
    "    88% of variation** \n",
    "    \n",
    "   **Model build with Ploynomial Features is the final linear model with best results for the provided data.**\n",
    "   \n",
    "   **And also by seeing the RMSE values we can infer that our model is not overfitting , its a good fit model.**"
   ]
  },
  {
   "cell_type": "markdown",
   "id": "e4ba65c5",
   "metadata": {},
   "source": [
    "## Non-Linear Models"
   ]
  },
  {
   "cell_type": "markdown",
   "id": "0668ac38",
   "metadata": {},
   "source": [
    "### Decision Tree"
   ]
  },
  {
   "cell_type": "code",
   "execution_count": 77,
   "id": "9bdb93b3",
   "metadata": {},
   "outputs": [
    {
     "name": "stdout",
     "output_type": "stream",
     "text": [
      "X Train shape:  (1070, 8)\n",
      "X Test shape:  (268, 8)\n",
      "Y Train shape:  (1070,)\n",
      "Y Test shape:  (268,)\n"
     ]
    }
   ],
   "source": [
    "X = df_encode.drop('charges',1)\n",
    "y = df_encode.charges\n",
    "\n",
    "x_train,x_test,y_train,y_test = train_test_split(X,y,test_size=0.20,random_state=0)\n",
    "\n",
    "print('X Train shape: ',x_train.shape)\n",
    "print('X Test shape: ',x_test.shape)\n",
    "print('Y Train shape: ',y_train.shape)\n",
    "print('Y Test shape: ',y_test.shape)"
   ]
  },
  {
   "cell_type": "code",
   "execution_count": 83,
   "id": "b4230f71",
   "metadata": {},
   "outputs": [
    {
     "name": "stdout",
     "output_type": "stream",
     "text": [
      "\u001b[1mR Square\n",
      "--------------------------\n",
      "0.686\n",
      "\n",
      "\n",
      "\u001b[1mRMSE of Train Data\n",
      "--------------------------\n",
      "494.21\n",
      "\n",
      "\n",
      "\u001b[1mRMSE of Test Data\n",
      "--------------------------\n",
      "7067.78\n"
     ]
    }
   ],
   "source": [
    "dt = DecisionTreeRegressor()\n",
    "model_dt = dt.fit(x_train,y_train)\n",
    "\n",
    "ypred_train_dt = model_dt.predict(x_train)\n",
    "ypred_test_dt = model_dt.predict(x_test)\n",
    "\n",
    "mse_train_dt = mean_squared_error(y_train,ypred_train_dt)\n",
    "mse_test_dt = mean_squared_error(y_test,ypred_test_dt)\n",
    "\n",
    "rmse_train_dt = np.sqrt(mse_train_dt)\n",
    "rmse_test_dt = np.sqrt(mse_test_dt)\n",
    "\n",
    "print(f\"{style.BOLD}R Square\")\n",
    "print('--------------------------')\n",
    "print(round(r2_score(y_test,ypred_test_dt),3))\n",
    "print('\\n')\n",
    "print(f\"{style.BOLD}RMSE of Train Data\")\n",
    "print('--------------------------')\n",
    "print(round(rmse_train_dt,2))\n",
    "print('\\n')\n",
    "print(f\"{style.BOLD}RMSE of Test Data\")\n",
    "print('--------------------------')\n",
    "print(round(rmse_test_dt,2))"
   ]
  },
  {
   "cell_type": "code",
   "execution_count": 86,
   "id": "26e00a38",
   "metadata": {},
   "outputs": [
    {
     "data": {
      "text/html": [
       "<div>\n",
       "<style scoped>\n",
       "    .dataframe tbody tr th:only-of-type {\n",
       "        vertical-align: middle;\n",
       "    }\n",
       "\n",
       "    .dataframe tbody tr th {\n",
       "        vertical-align: top;\n",
       "    }\n",
       "\n",
       "    .dataframe thead th {\n",
       "        text-align: right;\n",
       "    }\n",
       "</style>\n",
       "<table border=\"1\" class=\"dataframe\">\n",
       "  <thead>\n",
       "    <tr style=\"text-align: right;\">\n",
       "      <th></th>\n",
       "      <th>Model_Name</th>\n",
       "      <th>R-Squared</th>\n",
       "      <th>Adj. R-Squared</th>\n",
       "      <th>RMSE Train</th>\n",
       "      <th>RMSE Test</th>\n",
       "    </tr>\n",
       "  </thead>\n",
       "  <tbody>\n",
       "    <tr>\n",
       "      <th>0</th>\n",
       "      <td>Base Model Sklearn</td>\n",
       "      <td>0.799988</td>\n",
       "      <td>0.798784</td>\n",
       "      <td>6140.157419</td>\n",
       "      <td>5641.626559</td>\n",
       "    </tr>\n",
       "    <tr>\n",
       "      <th>1</th>\n",
       "      <td>Target Log Model</td>\n",
       "      <td>0.546642</td>\n",
       "      <td>0.543913</td>\n",
       "      <td>8370.445973</td>\n",
       "      <td>8493.690488</td>\n",
       "    </tr>\n",
       "    <tr>\n",
       "      <th>2</th>\n",
       "      <td>Model with Significant Feature</td>\n",
       "      <td>0.797827</td>\n",
       "      <td>0.796610</td>\n",
       "      <td>6150.519470</td>\n",
       "      <td>5672.010981</td>\n",
       "    </tr>\n",
       "    <tr>\n",
       "      <th>3</th>\n",
       "      <td>Model with Polynomial Features</td>\n",
       "      <td>0.881260</td>\n",
       "      <td>0.880545</td>\n",
       "      <td>4902.872472</td>\n",
       "      <td>4346.856347</td>\n",
       "    </tr>\n",
       "    <tr>\n",
       "      <th>4</th>\n",
       "      <td>Decision Tree Regressor</td>\n",
       "      <td>0.686084</td>\n",
       "      <td>0.684194</td>\n",
       "      <td>494.205984</td>\n",
       "      <td>7067.778120</td>\n",
       "    </tr>\n",
       "  </tbody>\n",
       "</table>\n",
       "</div>"
      ],
      "text/plain": [
       "                       Model_Name  R-Squared  Adj. R-Squared   RMSE Train  \\\n",
       "0              Base Model Sklearn   0.799988        0.798784  6140.157419   \n",
       "1                Target Log Model   0.546642        0.543913  8370.445973   \n",
       "2  Model with Significant Feature   0.797827        0.796610  6150.519470   \n",
       "3  Model with Polynomial Features   0.881260        0.880545  4902.872472   \n",
       "4         Decision Tree Regressor   0.686084        0.684194   494.205984   \n",
       "\n",
       "     RMSE Test  \n",
       "0  5641.626559  \n",
       "1  8493.690488  \n",
       "2  5672.010981  \n",
       "3  4346.856347  \n",
       "4  7067.778120  "
      ]
     },
     "execution_count": 86,
     "metadata": {},
     "output_type": "execute_result"
    }
   ],
   "source": [
    "tree_model = pd.Series({'Model_Name' : 'Decision Tree Regressor',\n",
    "           'R-Squared' : r2_score(y_test,ypred_test_dt),\n",
    "           'Adj. R-Squared' : adj_r(y_test,ypred_test_dt),\n",
    "           'RMSE Train' : rmse_train_dt,\n",
    "           'RMSE Test' : rmse_test_dt})\n",
    "\n",
    "score_card=score_card.append(tree_model,ignore_index=True)\n",
    "score_card"
   ]
  },
  {
   "cell_type": "markdown",
   "id": "2e2f7d7b",
   "metadata": {},
   "source": [
    "### Feature Importance"
   ]
  },
  {
   "cell_type": "code",
   "execution_count": 81,
   "id": "1142aaa7",
   "metadata": {},
   "outputs": [
    {
     "data": {
      "text/html": [
       "<div>\n",
       "<style scoped>\n",
       "    .dataframe tbody tr th:only-of-type {\n",
       "        vertical-align: middle;\n",
       "    }\n",
       "\n",
       "    .dataframe tbody tr th {\n",
       "        vertical-align: top;\n",
       "    }\n",
       "\n",
       "    .dataframe thead th {\n",
       "        text-align: right;\n",
       "    }\n",
       "</style>\n",
       "<table border=\"1\" class=\"dataframe\">\n",
       "  <thead>\n",
       "    <tr style=\"text-align: right;\">\n",
       "      <th></th>\n",
       "      <th>Features</th>\n",
       "      <th>Importance</th>\n",
       "    </tr>\n",
       "  </thead>\n",
       "  <tbody>\n",
       "    <tr>\n",
       "      <th>4</th>\n",
       "      <td>smoker_yes</td>\n",
       "      <td>0.605352</td>\n",
       "    </tr>\n",
       "    <tr>\n",
       "      <th>1</th>\n",
       "      <td>bmi</td>\n",
       "      <td>0.219559</td>\n",
       "    </tr>\n",
       "    <tr>\n",
       "      <th>0</th>\n",
       "      <td>age</td>\n",
       "      <td>0.131592</td>\n",
       "    </tr>\n",
       "    <tr>\n",
       "      <th>2</th>\n",
       "      <td>children</td>\n",
       "      <td>0.017447</td>\n",
       "    </tr>\n",
       "    <tr>\n",
       "      <th>5</th>\n",
       "      <td>region_northwest</td>\n",
       "      <td>0.008777</td>\n",
       "    </tr>\n",
       "    <tr>\n",
       "      <th>7</th>\n",
       "      <td>region_southwest</td>\n",
       "      <td>0.007213</td>\n",
       "    </tr>\n",
       "    <tr>\n",
       "      <th>6</th>\n",
       "      <td>region_southeast</td>\n",
       "      <td>0.005636</td>\n",
       "    </tr>\n",
       "    <tr>\n",
       "      <th>3</th>\n",
       "      <td>sex_male</td>\n",
       "      <td>0.004424</td>\n",
       "    </tr>\n",
       "  </tbody>\n",
       "</table>\n",
       "</div>"
      ],
      "text/plain": [
       "           Features  Importance\n",
       "4        smoker_yes    0.605352\n",
       "1               bmi    0.219559\n",
       "0               age    0.131592\n",
       "2          children    0.017447\n",
       "5  region_northwest    0.008777\n",
       "7  region_southwest    0.007213\n",
       "6  region_southeast    0.005636\n",
       "3          sex_male    0.004424"
      ]
     },
     "execution_count": 81,
     "metadata": {},
     "output_type": "execute_result"
    }
   ],
   "source": [
    "important = pd.DataFrame({'Features':x_train.columns,'Importance':model_dt.feature_importances_})\n",
    "important.sort_values(by='Importance',ascending = False)"
   ]
  },
  {
   "cell_type": "code",
   "execution_count": 84,
   "id": "d5a82b17",
   "metadata": {},
   "outputs": [
    {
     "name": "stdout",
     "output_type": "stream",
     "text": [
      "X Train shape:  (1070, 4)\n",
      "X Test shape:  (268, 4)\n",
      "Y Train shape:  (1070,)\n",
      "Y Test shape:  (268,)\n"
     ]
    }
   ],
   "source": [
    "X_sig= df_encode.drop(['charges','sex_male','region_northwest','region_southeast','region_southwest'],1)\n",
    "y_sig = df.charges\n",
    "\n",
    "x_train_sig,x_test_sig,y_train_sig,y_test_sig = train_test_split(X_sig,y_sig,test_size=0.20,random_state=0)\n",
    "\n",
    "print('X Train shape: ',x_train_sig.shape)\n",
    "print('X Test shape: ',x_test_sig.shape)\n",
    "print('Y Train shape: ',y_train_sig.shape)\n",
    "print('Y Test shape: ',y_test_sig.shape)"
   ]
  },
  {
   "cell_type": "code",
   "execution_count": 85,
   "id": "d1379a1b",
   "metadata": {},
   "outputs": [
    {
     "name": "stdout",
     "output_type": "stream",
     "text": [
      "\u001b[1mR Square\n",
      "--------------------------\n",
      "0.727\n",
      "\n",
      "\n",
      "\u001b[1mRMSE of Train Data\n",
      "--------------------------\n",
      "494.66\n",
      "\n",
      "\n",
      "\u001b[1mRMSE of Test Data\n",
      "--------------------------\n",
      "6589.9\n"
     ]
    }
   ],
   "source": [
    "dt = DecisionTreeRegressor()\n",
    "model_dt_sig = dt.fit(x_train_sig,y_train_sig)\n",
    "\n",
    "ypred_train_dt_sig = model_dt_sig.predict(x_train_sig)\n",
    "ypred_test_dt_sig = model_dt_sig.predict(x_test_sig)\n",
    "\n",
    "mse_train_dt_sig = mean_squared_error(y_train_sig,ypred_train_dt_sig)\n",
    "mse_test_dt_sig = mean_squared_error(y_test_sig,ypred_test_dt_sig)\n",
    "\n",
    "rmse_train_dt_sig = np.sqrt(mse_train_dt_sig)\n",
    "rmse_test_dt_sig = np.sqrt(mse_test_dt_sig)\n",
    "\n",
    "print(f\"{style.BOLD}R Square\")\n",
    "print('--------------------------')\n",
    "print(round(r2_score(y_test_sig,ypred_test_dt_sig),3))\n",
    "print('\\n')\n",
    "print(f\"{style.BOLD}RMSE of Train Data\")\n",
    "print('--------------------------')\n",
    "print(round(rmse_train_dt_sig,2))\n",
    "print('\\n')\n",
    "print(f\"{style.BOLD}RMSE of Test Data\")\n",
    "print('--------------------------')\n",
    "print(round(rmse_test_dt_sig,2))"
   ]
  },
  {
   "cell_type": "code",
   "execution_count": 87,
   "id": "0d1348fc",
   "metadata": {},
   "outputs": [
    {
     "data": {
      "text/html": [
       "<div>\n",
       "<style scoped>\n",
       "    .dataframe tbody tr th:only-of-type {\n",
       "        vertical-align: middle;\n",
       "    }\n",
       "\n",
       "    .dataframe tbody tr th {\n",
       "        vertical-align: top;\n",
       "    }\n",
       "\n",
       "    .dataframe thead th {\n",
       "        text-align: right;\n",
       "    }\n",
       "</style>\n",
       "<table border=\"1\" class=\"dataframe\">\n",
       "  <thead>\n",
       "    <tr style=\"text-align: right;\">\n",
       "      <th></th>\n",
       "      <th>Model_Name</th>\n",
       "      <th>R-Squared</th>\n",
       "      <th>Adj. R-Squared</th>\n",
       "      <th>RMSE Train</th>\n",
       "      <th>RMSE Test</th>\n",
       "    </tr>\n",
       "  </thead>\n",
       "  <tbody>\n",
       "    <tr>\n",
       "      <th>0</th>\n",
       "      <td>Base Model Sklearn</td>\n",
       "      <td>0.799988</td>\n",
       "      <td>0.798784</td>\n",
       "      <td>6140.157419</td>\n",
       "      <td>5641.626559</td>\n",
       "    </tr>\n",
       "    <tr>\n",
       "      <th>1</th>\n",
       "      <td>Target Log Model</td>\n",
       "      <td>0.546642</td>\n",
       "      <td>0.543913</td>\n",
       "      <td>8370.445973</td>\n",
       "      <td>8493.690488</td>\n",
       "    </tr>\n",
       "    <tr>\n",
       "      <th>2</th>\n",
       "      <td>Model with Significant Feature</td>\n",
       "      <td>0.797827</td>\n",
       "      <td>0.796610</td>\n",
       "      <td>6150.519470</td>\n",
       "      <td>5672.010981</td>\n",
       "    </tr>\n",
       "    <tr>\n",
       "      <th>3</th>\n",
       "      <td>Model with Polynomial Features</td>\n",
       "      <td>0.881260</td>\n",
       "      <td>0.880545</td>\n",
       "      <td>4902.872472</td>\n",
       "      <td>4346.856347</td>\n",
       "    </tr>\n",
       "    <tr>\n",
       "      <th>4</th>\n",
       "      <td>Decision Tree Regressor</td>\n",
       "      <td>0.686084</td>\n",
       "      <td>0.684194</td>\n",
       "      <td>494.205984</td>\n",
       "      <td>7067.778120</td>\n",
       "    </tr>\n",
       "    <tr>\n",
       "      <th>5</th>\n",
       "      <td>Decision Tree Regressor with Significant Features</td>\n",
       "      <td>0.727099</td>\n",
       "      <td>0.725456</td>\n",
       "      <td>494.660483</td>\n",
       "      <td>6589.901429</td>\n",
       "    </tr>\n",
       "  </tbody>\n",
       "</table>\n",
       "</div>"
      ],
      "text/plain": [
       "                                          Model_Name  R-Squared  \\\n",
       "0                                 Base Model Sklearn   0.799988   \n",
       "1                                   Target Log Model   0.546642   \n",
       "2                     Model with Significant Feature   0.797827   \n",
       "3                     Model with Polynomial Features   0.881260   \n",
       "4                            Decision Tree Regressor   0.686084   \n",
       "5  Decision Tree Regressor with Significant Features   0.727099   \n",
       "\n",
       "   Adj. R-Squared   RMSE Train    RMSE Test  \n",
       "0        0.798784  6140.157419  5641.626559  \n",
       "1        0.543913  8370.445973  8493.690488  \n",
       "2        0.796610  6150.519470  5672.010981  \n",
       "3        0.880545  4902.872472  4346.856347  \n",
       "4        0.684194   494.205984  7067.778120  \n",
       "5        0.725456   494.660483  6589.901429  "
      ]
     },
     "execution_count": 87,
     "metadata": {},
     "output_type": "execute_result"
    }
   ],
   "source": [
    "tree_model_sig = pd.Series({'Model_Name' : 'Decision Tree Regressor with Significant Features',\n",
    "           'R-Squared' : r2_score(y_test_sig,ypred_test_dt_sig),\n",
    "           'Adj. R-Squared' : adj_r(y_test_sig,ypred_test_dt_sig),\n",
    "           'RMSE Train' : rmse_train_dt_sig,\n",
    "           'RMSE Test' : rmse_test_dt_sig})\n",
    "\n",
    "score_card=score_card.append(tree_model_sig,ignore_index=True)\n",
    "score_card"
   ]
  },
  {
   "cell_type": "markdown",
   "id": "2d514d21",
   "metadata": {},
   "source": [
    "### HyperParameter Tuning:"
   ]
  },
  {
   "cell_type": "code",
   "execution_count": 89,
   "id": "0244cbbd",
   "metadata": {},
   "outputs": [
    {
     "data": {
      "text/plain": [
       "{'criterion': 'mae', 'max_depth': 4}"
      ]
     },
     "execution_count": 89,
     "metadata": {},
     "output_type": "execute_result"
    }
   ],
   "source": [
    "tune = [{'criterion':['mse','mae','squared_error'],\n",
    "         'max_depth':[2,3,4,5,6]\n",
    "        }]\n",
    "\n",
    "dt = DecisionTreeRegressor()\n",
    "gv = GridSearchCV(estimator=dt,param_grid=tune,scoring='r2',cv=5)\n",
    "model_gv = gv.fit(x_train,y_train)\n",
    "model_gv.best_params_"
   ]
  },
  {
   "cell_type": "code",
   "execution_count": 90,
   "id": "a7087625",
   "metadata": {},
   "outputs": [
    {
     "name": "stdout",
     "output_type": "stream",
     "text": [
      "\u001b[1mR Square\n",
      "--------------------------\n",
      "0.887\n",
      "\n",
      "\n",
      "\u001b[1mRMSE of Train Data\n",
      "--------------------------\n",
      "4722.17\n",
      "\n",
      "\n",
      "\u001b[1mRMSE of Test Data\n",
      "--------------------------\n",
      "4247.53\n"
     ]
    }
   ],
   "source": [
    "dt = DecisionTreeRegressor(criterion='mae',max_depth=4)\n",
    "model_dt_tune = dt.fit(x_train_sig,y_train_sig)\n",
    "\n",
    "ypred_train_dt_tune = model_dt_tune.predict(x_train_sig)\n",
    "ypred_test_dt_tune = model_dt_tune.predict(x_test_sig)\n",
    "\n",
    "mse_train_dt_tune = mean_squared_error(y_train_sig,ypred_train_dt_tune)\n",
    "mse_test_dt_tune = mean_squared_error(y_test_sig,ypred_test_dt_tune)\n",
    "\n",
    "rmse_train_dt_tune = np.sqrt(mse_train_dt_tune)\n",
    "rmse_test_dt_tune = np.sqrt(mse_test_dt_tune)\n",
    "\n",
    "print(f\"{style.BOLD}R Square\")\n",
    "print('--------------------------')\n",
    "print(round(r2_score(y_test_sig,ypred_test_dt_tune),3))\n",
    "print('\\n')\n",
    "print(f\"{style.BOLD}RMSE of Train Data\")\n",
    "print('--------------------------')\n",
    "print(round(rmse_train_dt_tune,2))\n",
    "print('\\n')\n",
    "print(f\"{style.BOLD}RMSE of Test Data\")\n",
    "print('--------------------------')\n",
    "print(round(rmse_test_dt_tune,2))"
   ]
  },
  {
   "cell_type": "code",
   "execution_count": 91,
   "id": "58004e3d",
   "metadata": {},
   "outputs": [
    {
     "data": {
      "text/html": [
       "<div>\n",
       "<style scoped>\n",
       "    .dataframe tbody tr th:only-of-type {\n",
       "        vertical-align: middle;\n",
       "    }\n",
       "\n",
       "    .dataframe tbody tr th {\n",
       "        vertical-align: top;\n",
       "    }\n",
       "\n",
       "    .dataframe thead th {\n",
       "        text-align: right;\n",
       "    }\n",
       "</style>\n",
       "<table border=\"1\" class=\"dataframe\">\n",
       "  <thead>\n",
       "    <tr style=\"text-align: right;\">\n",
       "      <th></th>\n",
       "      <th>Model_Name</th>\n",
       "      <th>R-Squared</th>\n",
       "      <th>Adj. R-Squared</th>\n",
       "      <th>RMSE Train</th>\n",
       "      <th>RMSE Test</th>\n",
       "    </tr>\n",
       "  </thead>\n",
       "  <tbody>\n",
       "    <tr>\n",
       "      <th>0</th>\n",
       "      <td>Base Model Sklearn</td>\n",
       "      <td>0.799988</td>\n",
       "      <td>0.798784</td>\n",
       "      <td>6140.157419</td>\n",
       "      <td>5641.626559</td>\n",
       "    </tr>\n",
       "    <tr>\n",
       "      <th>1</th>\n",
       "      <td>Target Log Model</td>\n",
       "      <td>0.546642</td>\n",
       "      <td>0.543913</td>\n",
       "      <td>8370.445973</td>\n",
       "      <td>8493.690488</td>\n",
       "    </tr>\n",
       "    <tr>\n",
       "      <th>2</th>\n",
       "      <td>Model with Significant Feature</td>\n",
       "      <td>0.797827</td>\n",
       "      <td>0.796610</td>\n",
       "      <td>6150.519470</td>\n",
       "      <td>5672.010981</td>\n",
       "    </tr>\n",
       "    <tr>\n",
       "      <th>3</th>\n",
       "      <td>Model with Polynomial Features</td>\n",
       "      <td>0.881260</td>\n",
       "      <td>0.880545</td>\n",
       "      <td>4902.872472</td>\n",
       "      <td>4346.856347</td>\n",
       "    </tr>\n",
       "    <tr>\n",
       "      <th>4</th>\n",
       "      <td>Decision Tree Regressor</td>\n",
       "      <td>0.686084</td>\n",
       "      <td>0.684194</td>\n",
       "      <td>494.205984</td>\n",
       "      <td>7067.778120</td>\n",
       "    </tr>\n",
       "    <tr>\n",
       "      <th>5</th>\n",
       "      <td>Decision Tree Regressor with Significant Features</td>\n",
       "      <td>0.727099</td>\n",
       "      <td>0.725456</td>\n",
       "      <td>494.660483</td>\n",
       "      <td>6589.901429</td>\n",
       "    </tr>\n",
       "    <tr>\n",
       "      <th>6</th>\n",
       "      <td>Tuned Decision Tree Regressor with Significant...</td>\n",
       "      <td>0.886624</td>\n",
       "      <td>0.885942</td>\n",
       "      <td>4722.166439</td>\n",
       "      <td>4247.529214</td>\n",
       "    </tr>\n",
       "  </tbody>\n",
       "</table>\n",
       "</div>"
      ],
      "text/plain": [
       "                                          Model_Name  R-Squared  \\\n",
       "0                                 Base Model Sklearn   0.799988   \n",
       "1                                   Target Log Model   0.546642   \n",
       "2                     Model with Significant Feature   0.797827   \n",
       "3                     Model with Polynomial Features   0.881260   \n",
       "4                            Decision Tree Regressor   0.686084   \n",
       "5  Decision Tree Regressor with Significant Features   0.727099   \n",
       "6  Tuned Decision Tree Regressor with Significant...   0.886624   \n",
       "\n",
       "   Adj. R-Squared   RMSE Train    RMSE Test  \n",
       "0        0.798784  6140.157419  5641.626559  \n",
       "1        0.543913  8370.445973  8493.690488  \n",
       "2        0.796610  6150.519470  5672.010981  \n",
       "3        0.880545  4902.872472  4346.856347  \n",
       "4        0.684194   494.205984  7067.778120  \n",
       "5        0.725456   494.660483  6589.901429  \n",
       "6        0.885942  4722.166439  4247.529214  "
      ]
     },
     "execution_count": 91,
     "metadata": {},
     "output_type": "execute_result"
    }
   ],
   "source": [
    "tree_model_sig_tune = pd.Series({'Model_Name' : 'Tuned Decision Tree Regressor with Significant Features',\n",
    "           'R-Squared' : r2_score(y_test_sig,ypred_test_dt_tune),\n",
    "           'Adj. R-Squared' : adj_r(y_test_sig,ypred_test_dt_tune),\n",
    "           'RMSE Train' : rmse_train_dt_tune,\n",
    "           'RMSE Test' : rmse_test_dt_tune})\n",
    "\n",
    "score_card=score_card.append(tree_model_sig_tune,ignore_index=True)\n",
    "score_card"
   ]
  },
  {
   "cell_type": "markdown",
   "id": "20e04764",
   "metadata": {},
   "source": [
    "### Ensemble Models"
   ]
  },
  {
   "cell_type": "code",
   "execution_count": 106,
   "id": "5e8805dc",
   "metadata": {},
   "outputs": [
    {
     "name": "stdout",
     "output_type": "stream",
     "text": [
      "\u001b[1mR Square\n",
      "--------------------------\n",
      "0.887\n",
      "\n",
      "\n",
      "\u001b[1mRMSE of Train Data\n",
      "--------------------------\n",
      "4722.17\n",
      "\n",
      "\n",
      "\u001b[1mRMSE of Test Data\n",
      "--------------------------\n",
      "4247.53\n"
     ]
    }
   ],
   "source": [
    "gb = GradientBoostingRegressor()\n",
    "model_gb = dt.fit(x_train_sig,y_train_sig)\n",
    "\n",
    "ypred_train_gb = model_gb.predict(x_train_sig)\n",
    "ypred_test_gb = model_gb.predict(x_test_sig)\n",
    "\n",
    "mse_train_gb = mean_squared_error(y_train_sig,ypred_train_gb)\n",
    "mse_test_gb = mean_squared_error(y_test_sig,ypred_test_gb)\n",
    "\n",
    "rmse_train_gb = np.sqrt(mse_train_gb)\n",
    "rmse_test_gb = np.sqrt(mse_test_gb)\n",
    "\n",
    "print(f\"{style.BOLD}R Square\")\n",
    "print('--------------------------')\n",
    "print(round(r2_score(y_test_sig,ypred_test_gb),3))\n",
    "print('\\n')\n",
    "print(f\"{style.BOLD}RMSE of Train Data\")\n",
    "print('--------------------------')\n",
    "print(round(rmse_train_gb,2))\n",
    "print('\\n')\n",
    "print(f\"{style.BOLD}RMSE of Test Data\")\n",
    "print('--------------------------')\n",
    "print(round(rmse_test_gb,2))"
   ]
  },
  {
   "cell_type": "code",
   "execution_count": 99,
   "id": "6db074e5",
   "metadata": {},
   "outputs": [
    {
     "data": {
      "text/html": [
       "<div>\n",
       "<style scoped>\n",
       "    .dataframe tbody tr th:only-of-type {\n",
       "        vertical-align: middle;\n",
       "    }\n",
       "\n",
       "    .dataframe tbody tr th {\n",
       "        vertical-align: top;\n",
       "    }\n",
       "\n",
       "    .dataframe thead th {\n",
       "        text-align: right;\n",
       "    }\n",
       "</style>\n",
       "<table border=\"1\" class=\"dataframe\">\n",
       "  <thead>\n",
       "    <tr style=\"text-align: right;\">\n",
       "      <th></th>\n",
       "      <th>Model_Name</th>\n",
       "      <th>R-Squared</th>\n",
       "      <th>Adj. R-Squared</th>\n",
       "      <th>RMSE Train</th>\n",
       "      <th>RMSE Test</th>\n",
       "    </tr>\n",
       "  </thead>\n",
       "  <tbody>\n",
       "    <tr>\n",
       "      <th>0</th>\n",
       "      <td>Base Model Sklearn</td>\n",
       "      <td>0.799988</td>\n",
       "      <td>0.798784</td>\n",
       "      <td>6140.157419</td>\n",
       "      <td>5641.626559</td>\n",
       "    </tr>\n",
       "    <tr>\n",
       "      <th>1</th>\n",
       "      <td>Target Log Model</td>\n",
       "      <td>0.546642</td>\n",
       "      <td>0.543913</td>\n",
       "      <td>8370.445973</td>\n",
       "      <td>8493.690488</td>\n",
       "    </tr>\n",
       "    <tr>\n",
       "      <th>2</th>\n",
       "      <td>Model with Significant Feature</td>\n",
       "      <td>0.797827</td>\n",
       "      <td>0.796610</td>\n",
       "      <td>6150.519470</td>\n",
       "      <td>5672.010981</td>\n",
       "    </tr>\n",
       "    <tr>\n",
       "      <th>3</th>\n",
       "      <td>Model with Polynomial Features</td>\n",
       "      <td>0.881260</td>\n",
       "      <td>0.880545</td>\n",
       "      <td>4902.872472</td>\n",
       "      <td>4346.856347</td>\n",
       "    </tr>\n",
       "    <tr>\n",
       "      <th>4</th>\n",
       "      <td>Decision Tree Regressor</td>\n",
       "      <td>0.686084</td>\n",
       "      <td>0.684194</td>\n",
       "      <td>494.205984</td>\n",
       "      <td>7067.778120</td>\n",
       "    </tr>\n",
       "    <tr>\n",
       "      <th>5</th>\n",
       "      <td>Decision Tree Regressor with Significant Features</td>\n",
       "      <td>0.727099</td>\n",
       "      <td>0.725456</td>\n",
       "      <td>494.660483</td>\n",
       "      <td>6589.901429</td>\n",
       "    </tr>\n",
       "    <tr>\n",
       "      <th>6</th>\n",
       "      <td>Tuned Decision Tree Regressor with Significant...</td>\n",
       "      <td>0.886624</td>\n",
       "      <td>0.885942</td>\n",
       "      <td>4722.166439</td>\n",
       "      <td>4247.529214</td>\n",
       "    </tr>\n",
       "    <tr>\n",
       "      <th>7</th>\n",
       "      <td>GrdientBoosting Regressor with Significant Fea...</td>\n",
       "      <td>0.886624</td>\n",
       "      <td>0.885942</td>\n",
       "      <td>4722.166439</td>\n",
       "      <td>4247.529214</td>\n",
       "    </tr>\n",
       "  </tbody>\n",
       "</table>\n",
       "</div>"
      ],
      "text/plain": [
       "                                          Model_Name  R-Squared  \\\n",
       "0                                 Base Model Sklearn   0.799988   \n",
       "1                                   Target Log Model   0.546642   \n",
       "2                     Model with Significant Feature   0.797827   \n",
       "3                     Model with Polynomial Features   0.881260   \n",
       "4                            Decision Tree Regressor   0.686084   \n",
       "5  Decision Tree Regressor with Significant Features   0.727099   \n",
       "6  Tuned Decision Tree Regressor with Significant...   0.886624   \n",
       "7  GrdientBoosting Regressor with Significant Fea...   0.886624   \n",
       "\n",
       "   Adj. R-Squared   RMSE Train    RMSE Test  \n",
       "0        0.798784  6140.157419  5641.626559  \n",
       "1        0.543913  8370.445973  8493.690488  \n",
       "2        0.796610  6150.519470  5672.010981  \n",
       "3        0.880545  4902.872472  4346.856347  \n",
       "4        0.684194   494.205984  7067.778120  \n",
       "5        0.725456   494.660483  6589.901429  \n",
       "6        0.885942  4722.166439  4247.529214  \n",
       "7        0.885942  4722.166439  4247.529214  "
      ]
     },
     "execution_count": 99,
     "metadata": {},
     "output_type": "execute_result"
    }
   ],
   "source": [
    "gb_model = pd.Series({'Model_Name' : 'GrdientBoosting Regressor with Significant Features',\n",
    "           'R-Squared' : r2_score(y_test_sig,ypred_test_gb),\n",
    "           'Adj. R-Squared' : adj_r(y_test_sig,ypred_test_gb),\n",
    "           'RMSE Train' : rmse_train_gb,\n",
    "           'RMSE Test' : rmse_test_gb})\n",
    "\n",
    "score_card=score_card.append(gb_model,ignore_index=True)\n",
    "score_card"
   ]
  },
  {
   "cell_type": "markdown",
   "id": "ce406b27",
   "metadata": {},
   "source": [
    "### Bais and Variance Error:"
   ]
  },
  {
   "cell_type": "code",
   "execution_count": 108,
   "id": "4810117d",
   "metadata": {},
   "outputs": [
    {
     "name": "stdout",
     "output_type": "stream",
     "text": [
      "\u001b[1mBais Error\n",
      "--------------------------\n",
      "0.1604920718369014\n",
      "\n",
      "\n",
      "\u001b[1mVariance Error\n",
      "--------------------------\n",
      "0.03136169224564467\n"
     ]
    }
   ],
   "source": [
    "gb=GradientBoostingRegressor()\n",
    "cross_val = cross_val_score(estimator=gb,X=x_train_sig,y=y_train_sig,scoring='r2',cv=5)\n",
    "bais = (1 - np.mean(cross_val))\n",
    "variance = np.std(cross_val)/np.mean(cross_val)\n",
    "\n",
    "print(f\"{style.BOLD}Bais Error\")\n",
    "print('--------------------------')\n",
    "print(bais)\n",
    "print('\\n')\n",
    "print(f\"{style.BOLD}Variance Error\")\n",
    "print('--------------------------')\n",
    "print(variance)"
   ]
  },
  {
   "cell_type": "markdown",
   "id": "35c551e8",
   "metadata": {},
   "source": [
    "### Inference :"
   ]
  },
  {
   "cell_type": "markdown",
   "id": "819b7a9b",
   "metadata": {},
   "source": [
    "**For the given data we have got 16% unexplained error / Bias error.**\n",
    "\n",
    "**On an average 16% of difference can be expected while predictions in terms of charges**\n",
    "\n",
    "**For the given data we have 3% variance , i.e when tried on different data sets we can expect on an average 3% of variation in the prediction values.** \n"
   ]
  },
  {
   "cell_type": "code",
   "execution_count": 109,
   "id": "ec42b9a6",
   "metadata": {},
   "outputs": [
    {
     "data": {
      "text/html": [
       "<div>\n",
       "<style scoped>\n",
       "    .dataframe tbody tr th:only-of-type {\n",
       "        vertical-align: middle;\n",
       "    }\n",
       "\n",
       "    .dataframe tbody tr th {\n",
       "        vertical-align: top;\n",
       "    }\n",
       "\n",
       "    .dataframe thead th {\n",
       "        text-align: right;\n",
       "    }\n",
       "</style>\n",
       "<table border=\"1\" class=\"dataframe\">\n",
       "  <thead>\n",
       "    <tr style=\"text-align: right;\">\n",
       "      <th></th>\n",
       "      <th>Model_Name</th>\n",
       "      <th>R-Squared</th>\n",
       "      <th>Adj. R-Squared</th>\n",
       "      <th>RMSE Train</th>\n",
       "      <th>RMSE Test</th>\n",
       "    </tr>\n",
       "  </thead>\n",
       "  <tbody>\n",
       "    <tr>\n",
       "      <th>0</th>\n",
       "      <td>Base Model Sklearn</td>\n",
       "      <td>0.799988</td>\n",
       "      <td>0.798784</td>\n",
       "      <td>6140.157419</td>\n",
       "      <td>5641.626559</td>\n",
       "    </tr>\n",
       "    <tr>\n",
       "      <th>1</th>\n",
       "      <td>Target Log Model</td>\n",
       "      <td>0.546642</td>\n",
       "      <td>0.543913</td>\n",
       "      <td>8370.445973</td>\n",
       "      <td>8493.690488</td>\n",
       "    </tr>\n",
       "    <tr>\n",
       "      <th>2</th>\n",
       "      <td>Model with Significant Feature</td>\n",
       "      <td>0.797827</td>\n",
       "      <td>0.796610</td>\n",
       "      <td>6150.519470</td>\n",
       "      <td>5672.010981</td>\n",
       "    </tr>\n",
       "    <tr>\n",
       "      <th>3</th>\n",
       "      <td>Model with Polynomial Features</td>\n",
       "      <td>0.881260</td>\n",
       "      <td>0.880545</td>\n",
       "      <td>4902.872472</td>\n",
       "      <td>4346.856347</td>\n",
       "    </tr>\n",
       "    <tr>\n",
       "      <th>4</th>\n",
       "      <td>Decision Tree Regressor</td>\n",
       "      <td>0.686084</td>\n",
       "      <td>0.684194</td>\n",
       "      <td>494.205984</td>\n",
       "      <td>7067.778120</td>\n",
       "    </tr>\n",
       "    <tr>\n",
       "      <th>5</th>\n",
       "      <td>Decision Tree Regressor with Significant Features</td>\n",
       "      <td>0.727099</td>\n",
       "      <td>0.725456</td>\n",
       "      <td>494.660483</td>\n",
       "      <td>6589.901429</td>\n",
       "    </tr>\n",
       "    <tr>\n",
       "      <th>6</th>\n",
       "      <td>Tuned Decision Tree Regressor with Significant...</td>\n",
       "      <td>0.886624</td>\n",
       "      <td>0.885942</td>\n",
       "      <td>4722.166439</td>\n",
       "      <td>4247.529214</td>\n",
       "    </tr>\n",
       "    <tr>\n",
       "      <th>7</th>\n",
       "      <td>GrdientBoosting Regressor with Significant Fea...</td>\n",
       "      <td>0.886624</td>\n",
       "      <td>0.885942</td>\n",
       "      <td>4722.166439</td>\n",
       "      <td>4247.529214</td>\n",
       "    </tr>\n",
       "  </tbody>\n",
       "</table>\n",
       "</div>"
      ],
      "text/plain": [
       "                                          Model_Name  R-Squared  \\\n",
       "0                                 Base Model Sklearn   0.799988   \n",
       "1                                   Target Log Model   0.546642   \n",
       "2                     Model with Significant Feature   0.797827   \n",
       "3                     Model with Polynomial Features   0.881260   \n",
       "4                            Decision Tree Regressor   0.686084   \n",
       "5  Decision Tree Regressor with Significant Features   0.727099   \n",
       "6  Tuned Decision Tree Regressor with Significant...   0.886624   \n",
       "7  GrdientBoosting Regressor with Significant Fea...   0.886624   \n",
       "\n",
       "   Adj. R-Squared   RMSE Train    RMSE Test  \n",
       "0        0.798784  6140.157419  5641.626559  \n",
       "1        0.543913  8370.445973  8493.690488  \n",
       "2        0.796610  6150.519470  5672.010981  \n",
       "3        0.880545  4902.872472  4346.856347  \n",
       "4        0.684194   494.205984  7067.778120  \n",
       "5        0.725456   494.660483  6589.901429  \n",
       "6        0.885942  4722.166439  4247.529214  \n",
       "7        0.885942  4722.166439  4247.529214  "
      ]
     },
     "execution_count": 109,
     "metadata": {},
     "output_type": "execute_result"
    }
   ],
   "source": [
    "score_card"
   ]
  },
  {
   "cell_type": "markdown",
   "id": "92eac817",
   "metadata": {},
   "source": [
    "# CONCLUSION:"
   ]
  },
  {
   "cell_type": "markdown",
   "id": "3c7a4613",
   "metadata": {},
   "source": [
    "#### Build Different Models:\n",
    "    \n",
    "    -- Model With all the features\n",
    "    -- Log transformed the target column\n",
    "    -- Model with only significant features\n",
    "    -- Model with polynomial regression\n",
    "    -- Non-Linear Models like Decision tree\n",
    "    -- Decision Tree with significant features\n",
    "    -- Decision tree with best parameters using GridSearch Cv\n",
    "    -- Finally tried ensemble model Gradient Boosting."
   ]
  },
  {
   "cell_type": "markdown",
   "id": "9086f1a1",
   "metadata": {},
   "source": [
    "### In Linear Models , Model with Polynomial Regerssion with significant features gave us best results.\n",
    "\n",
    "### In Non-Linear Models, Tuned Decision Tree with Significant features gave us the best results with less RMSE\n",
    "\n",
    "### GradientBoosting also gave us the same results as Tuned Decision Tree with Significant features model\n",
    "\n"
   ]
  },
  {
   "cell_type": "markdown",
   "id": "9fce305f",
   "metadata": {},
   "source": [
    "## Considering Tuned Decision Tree with Significant features as the Final Model considering models R2 and RMSE for both Train and Test"
   ]
  },
  {
   "cell_type": "code",
   "execution_count": null,
   "id": "d4c810a3",
   "metadata": {},
   "outputs": [],
   "source": []
  }
 ],
 "metadata": {
  "kernelspec": {
   "display_name": "Python 3",
   "language": "python",
   "name": "python3"
  },
  "language_info": {
   "codemirror_mode": {
    "name": "ipython",
    "version": 3
   },
   "file_extension": ".py",
   "mimetype": "text/x-python",
   "name": "python",
   "nbconvert_exporter": "python",
   "pygments_lexer": "ipython3",
   "version": "3.8.8"
  }
 },
 "nbformat": 4,
 "nbformat_minor": 5
}
